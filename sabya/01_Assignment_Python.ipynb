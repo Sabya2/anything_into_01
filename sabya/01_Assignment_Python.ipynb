{
  "cells": [
    {
      "cell_type": "markdown",
      "metadata": {
        "id": "view-in-github",
        "colab_type": "text"
      },
      "source": [
        "<a href=\"https://colab.research.google.com/github/Sabya2/anything_into_01/blob/main/sabya/01_Assignment_Python.ipynb\" target=\"_parent\"><img src=\"https://colab.research.google.com/assets/colab-badge.svg\" alt=\"Open In Colab\"/></a>"
      ]
    },
    {
      "cell_type": "markdown",
      "source": [
        "# Assignment 01\n",
        "##### Python Basics I\n",
        "\n",
        "\n",
        "--- Sabyasachi\n",
        "\n",
        "This tutorial was written by Terry Ruas (University of Göttingen). The references for external contributors for which this material was anyhow adapted/inspired are in the Acknowledgments section (end of the document).\n"
      ],
      "metadata": {
        "collapsed": false,
        "id": "LZgQdr4W6iKz"
      }
    },
    {
      "cell_type": "markdown",
      "source": [
        "## Task 01 – Hello World!\n",
        "Write a simple program that asks the user to input a name and outputs a simple greeting, such as ‘Hi Name! Nice to meet you!’ and in the other line, ‘Welcome to the Programing Course!’. \n",
        "\n",
        "*Hint: Check out the input () and print() function in Python.* "
      ],
      "metadata": {
        "collapsed": false,
        "id": "4GPUv_8U6iK1"
      }
    },
    {
      "cell_type": "code",
      "execution_count": 2,
      "outputs": [
        {
          "output_type": "stream",
          "name": "stdout",
          "text": [
            "Hey, what up, how is life treating  ?wick\n",
            "Hey wick, tooooo many deadlines\n"
          ]
        }
      ],
      "source": [
        "name = input('Hey, what up, how is life treating  ?')\n",
        "print(f'Hey {name}, tooooo many deadlines')"
      ],
      "metadata": {
        "id": "xt3XV0YD6iK2",
        "outputId": "fab5993d-c471-4f68-f3c6-456c82d5a345",
        "colab": {
          "base_uri": "https://localhost:8080/"
        }
      }
    },
    {
      "cell_type": "markdown",
      "source": [
        "## Task 02 – Reversed Words\n",
        "Write a program that reads in a word provided by the user and prints the word in a reversed order. For example, if the input is hello, the output should be ‘olleh’. \n",
        "\n",
        "- Use a loop structure \n",
        "- Use just array indexes \n"
      ],
      "metadata": {
        "collapsed": false,
        "id": "_Jz4T4AQ6iK3"
      }
    },
    {
      "cell_type": "code",
      "execution_count": 4,
      "outputs": [
        {
          "output_type": "stream",
          "name": "stdout",
          "text": [
            "senildaed ynam oooot\n"
          ]
        }
      ],
      "source": [
        "def reverse(string): \n",
        "  print(string[::-1])\n",
        "\n",
        "reverse('toooo many deadlines')"
      ],
      "metadata": {
        "id": "aKLGcZ0_6iK3",
        "outputId": "c6a9cbbc-5b59-4531-f3d6-941c0dacf41f",
        "colab": {
          "base_uri": "https://localhost:8080/"
        }
      }
    },
    {
      "cell_type": "markdown",
      "source": [
        "## Task 03 –  Fibonacci Numbers\n",
        "Write a program that reads in an upper bound (number) provided by the user and prints the sequence of Fibonacci numbers that are less or equal to the number given by the user. Use a while-loop for this task. \n",
        "\n",
        "The Fibonacci sequence is defined as \n",
        "$ F_{n}=F_{n−1}+F_{n−2}$. Use $F_{0}=0$ and $F_{1} = 1$ as seed values.  \n",
        "\n",
        "For example, if the user inputs 6, the output should be 0, 1, 1, 2, 3, 5. \n",
        "\n",
        "\n",
        "\n"
      ],
      "metadata": {
        "collapsed": false,
        "id": "PalhJ9x36iK4"
      }
    },
    {
      "cell_type": "code",
      "execution_count": 11,
      "outputs": [
        {
          "output_type": "stream",
          "name": "stdout",
          "text": [
            "0, 1\n"
          ]
        }
      ],
      "source": [
        "def Fibonacci(num): \n",
        "  f12 = [0, 1]\n",
        "  for i in range(num - 2): \n",
        "    f12.append(f12[-2] + f12[-1])\n",
        "  print(str(f12)[1:-1])\n",
        "\n",
        "Fibonacci(1)"
      ],
      "metadata": {
        "id": "vm5UlcKB6iK4",
        "outputId": "c6326cc0-7d14-4888-93d1-863602e0808a",
        "colab": {
          "base_uri": "https://localhost:8080/"
        }
      }
    },
    {
      "cell_type": "markdown",
      "source": [
        "## Task 04 – Selective Printing \n",
        "\n",
        "Write a program that reads in an upper bound (number) provided by the user and prints all integer numbers that are less or equal to the upper bound except the integer numbers that are divisible by 3. Use the continue statement. For example, if the user enters 6 as the upper bound, the output should be 0, 1, 2, 4, 5.  "
      ],
      "metadata": {
        "collapsed": false,
        "id": "JV1Mm9qA6iK5"
      }
    },
    {
      "cell_type": "code",
      "execution_count": 14,
      "outputs": [
        {
          "output_type": "stream",
          "name": "stdout",
          "text": [
            "1\n",
            "2\n",
            "4\n",
            "5\n"
          ]
        }
      ],
      "source": [
        "def selective_print(num):\n",
        "  for i in range(num):\n",
        "    if i%3==0: \n",
        "      continue\n",
        "    else: print(i)\n",
        "\n",
        "selective_print(7)"
      ],
      "metadata": {
        "id": "C3i7ctus6iK6",
        "outputId": "3c0e491c-d719-4ac0-ea23-6eb9b1d56e75",
        "colab": {
          "base_uri": "https://localhost:8080/"
        }
      }
    },
    {
      "cell_type": "markdown",
      "source": [
        "## Task 05 – Triangle Checking   \n",
        "\n",
        "Write a Python program that asks the user to input the lengths of the sides in a triangle and outputs whether the triangle is equilateral, isosceles, or scalene. The program should also check for the Triangle inequality $(z < x + y)$,  and prompt the user for a valid input. \n",
        "\n",
        "- An equilateral triangle is a triangle in which all three sides are of equal length. \n",
        "- An isosceles triangle is a triangle with (at least) two sides of equal length. \n",
        "- A scalene triangle is a triangle in which all three sides have different lengths. \n",
        "\n",
        "For example, if the user inputs a=3, b=4, c=5, the triangle is scalene. \n"
      ],
      "metadata": {
        "collapsed": false,
        "id": "qz4P36Lz6iK6"
      }
    },
    {
      "cell_type": "code",
      "execution_count": 16,
      "outputs": [
        {
          "output_type": "stream",
          "name": "stdout",
          "text": [
            "Input lengths of the triangle sides: \n",
            "x: 9\n",
            "y: 9\n",
            "z: 9\n",
            "Equilateral triangle\n"
          ]
        }
      ],
      "source": [
        "def triangle():\n",
        "\n",
        "  print(\"Input lengths of the triangle sides: \")\n",
        "  x = int(input(\"x: \"))\n",
        "  y = int(input(\"y: \"))\n",
        "  z = int(input(\"z: \"))\n",
        "\n",
        "  if (x == y == z):\n",
        "  \tprint(\"Equilateral triangle\")\n",
        "  elif (x==y or y==z or z==x):\n",
        "  \tprint(\"isosceles triangle\")\n",
        "  else:\n",
        "  \tprint(\"Scalene triangle\")\n",
        "   \n",
        "triangle()"
      ],
      "metadata": {
        "id": "2c67p_Zc6iK7",
        "outputId": "82c85e68-625e-4d75-d9c5-e89ecbea6a90",
        "colab": {
          "base_uri": "https://localhost:8080/"
        }
      }
    },
    {
      "cell_type": "markdown",
      "source": [
        "## Task 06 – Decimal to Octal Conversion \n",
        "\n",
        "Write a program that reads a non-negative integer number in the decimal representation provided by the user and prints the octal representation of the number. For example, if the user enters 167, the output should be 247.  \n",
        "\n",
        "Write a more general program that reads in a non-negative number (potentially including decimal places) in the decimal representation provided by the user and prints the octal representation of the number. For example, if the user enters 25.11, the output should be 31.0702436560507534. "
      ],
      "metadata": {
        "collapsed": false,
        "id": "k1kh3odh6iK7"
      }
    },
    {
      "cell_type": "code",
      "execution_count": 22,
      "outputs": [
        {
          "name": "stdout",
          "output_type": "stream",
          "text": [
            "Enter your floating point value : \n",
            "25.11\n",
            "Enter the number of decimal places of the result : \n",
            "6\n"
          ]
        },
        {
          "output_type": "execute_result",
          "data": {
            "text/plain": [
              "'31.073146'"
            ],
            "application/vnd.google.colaboratory.intrinsic+json": {
              "type": "string"
            }
          },
          "metadata": {},
          "execution_count": 22
        }
      ],
      "source": [
        "def deci2octal(number, places = 6):\n",
        "\n",
        "\twhole, dec = str(number).split(\".\")\n",
        "\n",
        "\twhole = int(whole)\n",
        "\tdec = int (dec)\n",
        "\n",
        "\tres = oct(whole).lstrip(\"0o\") + \".\"\n",
        "\n",
        "\tfor x in range(places):\n",
        "\t\twhole, dec = str((decimal_converter(dec)) * 8).split(\".\")\n",
        "\t\tdec = int(dec)\n",
        "\t\tres += whole\n",
        "\n",
        "\treturn res\n",
        "\n",
        "def decimal_converter(num):\n",
        "\twhile num > 1:\n",
        "\t\tnum /= 10\n",
        "\treturn num\n",
        "\n",
        "\n",
        "n = input(\"Enter your floating point value : \\n\")\n",
        "\n",
        "p = int(input(\"Enter the number of decimal places of the result : \\n\"))\n",
        "\n",
        "\n",
        "deci2octal(n)"
      ],
      "metadata": {
        "id": "2-UCbTRQ6iK7",
        "outputId": "02e0b2b3-5768-469f-a98c-7615d8f40619",
        "colab": {
          "base_uri": "https://localhost:8080/",
          "height": 105
        }
      }
    },
    {
      "cell_type": "markdown",
      "source": [
        "## Acknowledgements\n",
        "\n",
        "Redmond, Hsu, Saini, Gupta, Ramsey, Kondrich, Capoor, Cohen, Borus, Kincaid, Malik, and many others. - Stanford CS41"
      ],
      "metadata": {
        "collapsed": false,
        "id": "Wl9JCEYM6iK-"
      }
    },
    {
      "cell_type": "code",
      "execution_count": null,
      "outputs": [],
      "source": [],
      "metadata": {
        "id": "Bx-WQj4v6iK-"
      }
    }
  ],
  "metadata": {
    "kernelspec": {
      "display_name": "Python 3",
      "language": "python",
      "name": "python3"
    },
    "language_info": {
      "codemirror_mode": {
        "name": "ipython",
        "version": 2
      },
      "file_extension": ".py",
      "mimetype": "text/x-python",
      "name": "python",
      "nbconvert_exporter": "python",
      "pygments_lexer": "ipython2",
      "version": "2.7.6"
    },
    "colab": {
      "provenance": [],
      "include_colab_link": true
    }
  },
  "nbformat": 4,
  "nbformat_minor": 0
}