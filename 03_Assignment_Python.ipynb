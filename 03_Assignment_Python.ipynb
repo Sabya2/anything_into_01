{
  "cells": [
    {
      "cell_type": "markdown",
      "metadata": {
        "id": "view-in-github",
        "colab_type": "text"
      },
      "source": [
        "<a href=\"https://colab.research.google.com/github/Sabya2/anything_into_01/blob/main/03_Assignment_Python.ipynb\" target=\"_parent\"><img src=\"https://colab.research.google.com/assets/colab-badge.svg\" alt=\"Open In Colab\"/></a>"
      ]
    },
    {
      "cell_type": "markdown",
      "source": [
        "# Assignment 03\n",
        "#### Python Basics III - Functions and Classes\n",
        "\n",
        "This tutorial was written by Terry L. Ruas (University of Göttingen). The references for external contributors for which this material was anyhow adapted/inspired are in the Acknowledgments section (end of the document)."
      ],
      "metadata": {
        "collapsed": false,
        "id": "3i7Q6MM_7a82"
      }
    },
    {
      "cell_type": "markdown",
      "source": [
        "This notebook will cover the following tasks:\n",
        "\n",
        "1. Dictionary\n",
        "2. Classes"
      ],
      "metadata": {
        "collapsed": false,
        "id": "eKtTDCOS7a83"
      }
    },
    {
      "cell_type": "markdown",
      "source": [
        "## Task 01 – Dictionary\n",
        "Imagine you have to write a (very simple) bookkeepingsystem for a bank that keeps track of the account balances of each of its customers.\n",
        "1. Write a function that spans a dictionary holding a default balance of 0 for an initial list of customers. For simplicity, assume customer names are unique identifier.  (optional) Can you express that same functionality using a lambda function?\n",
        "2. What are elegant ways to add or remove single and multiple customers using the functionality of dict?\n",
        "3. Now write two simple functions that allow you to deposit and withdraw money for a given bank customer.\n",
        "4. Include error messages for inputs that are not permissible, e.g., withdrawing negative amounts or overdrawing the account, etc."
      ],
      "metadata": {
        "collapsed": false,
        "id": "XumFInmh7a85"
      }
    },
    {
      "cell_type": "code",
      "execution_count": null,
      "outputs": [],
      "source": [
        "customers = { \n",
        "    'Maik':0,\n",
        "    'Leon':0,\n",
        "    'Lisa':0,\n",
        "    'test1': 0,\n",
        "    'test2': 0,\n",
        "    'test3': 0,\n",
        "    'test4': 0\n",
        "}\n",
        "customers\n",
        "\n",
        "defaultbalance = 0\n",
        "users = ['Lisa', 'Leon', 'Maik', 'test1', 'test2', 'test3', 'test4'] \n",
        "customers = {key:defaultbalance for key in users}\n",
        "customers\n",
        "\n",
        "customers = dict.fromkeys(users, 0) \n",
        "customers\n",
        "\n",
        "customers = dict(zip(users, map(lambda value: 0, users))) \n",
        "customers\n",
        "\n",
        "print(customers)\n",
        "\n",
        "del customers['test1'] \n",
        "print(customers)\n",
        "\n",
        "customers.pop('test2', 'test3') \n",
        "print(customers)\n",
        "\n",
        "customers.popitem() \n",
        "print(customers)\n",
        "\n",
        "def deposit(name, amount): \n",
        "  while True:\n",
        "    try:\n",
        "      if isinstance(amount, int):\n",
        "        customers[name] += amount\n",
        "        print(f\"{name} deposited ${amount}, the new balance is ${customers[name]}.\") \n",
        "        break\n",
        "        else:\n",
        "          raise ValueError\n",
        "          except ValueError: \n",
        "            try:\n",
        "              amount = int(input(\"valid amount of money to deposit: \")) \n",
        "              except:\n",
        "                continue\n",
        "\n",
        "\n",
        "\n",
        "def withdraw(name, amount): \n",
        "  while True:\n",
        "    try:\n",
        "      if isinstance(amount, int):\n",
        "        if customers[name] - amount >= 0:\n",
        "          customers[name] -= amount\n",
        "          print(f\"{name} withdrew {amount}, the new balance is ${customers[name]}.\") \n",
        "          break\n",
        "          else:\n",
        "            print(f\"{name}, cant withdraw a amounts thats higher than balance(${customers[name]}).\") \n",
        "            raise ValueError\n",
        "            else:\n",
        "              raise ValueError\n",
        "              except ValueError: \n",
        "                try:\n",
        "                  amount = int(input(\"valid amount of money to withdraw: \")) \n",
        "                  except:\n",
        "                    continue\n",
        "                  \n",
        "\n",
        "deposit('Maik', 3000) \n",
        "deposit('Leon', 900) \n",
        "deposit('Lisa', 15.5) \n",
        "\n",
        "withdraw('Maik', 1000) \n",
        "withdraw('Leon', 100) \n",
        "withdraw('Lisa', 11.5)\n",
        "\n"
      ],
      "metadata": {
        "id": "aEr0j2IX7a85"
      }
    },
    {
      "cell_type": "markdown",
      "source": [
        "\n",
        "## Task 02 – Classes\n",
        "The manager thinks that the simple bookkeeping system you have built is not powerful enough. She requests that you start from scratch and use classes instead.\n",
        "1. Write a simple class with appropriate constructor *\\_\\_init\\_\\_* that initializes an object of class *Customer* tracking the same information as in Task 01.\n",
        "2. Now write two simple methods for class *Customer* that allow you to deposit and withdraw money for a given customer object.\n",
        "3. Include error messages for inputs that are not permissible, e.g., withdrawing negative amounts or overdrawing the account.\n",
        "4. (Inheritance) Write a child class *SavingsCustomer* that inherits its features from the parent class *Customer*. A savings customer has an extra savings balance for receiving extra interest. The class should have a method to transfer money back and forth between the accounts' main balance as well as the savings balance. Do not forget to add reasonable error messages."
      ],
      "metadata": {
        "collapsed": false,
        "id": "9tMOI3tn7a86"
      }
    },
    {
      "cell_type": "code",
      "execution_count": null,
      "outputs": [],
      "source": [
        "class customer():\n",
        "  def __init__(self, name, balance=0):\n",
        "    self.name = name \n",
        "    self.balance = balance\n",
        "  def __str__(self):\n",
        "    return f\"{self.name} \\is a balance of ${self.balance}.\"\n",
        "    \n",
        "  def deposit(self, amount): \n",
        "    while True:\n",
        "      try:\n",
        "        if isinstance(amount, int):\n",
        "          self.balance += amount\n",
        "          print(f\"{self.name} deposited ${amount}, the new balance is ${self.balance}.\") \n",
        "          break\n",
        "        else:\n",
        "          raise ValueError\n",
        "          except ValueError: \n",
        "            try:\n",
        "              amount = int(input(f\"valid amount of money for deposit: \")) \n",
        "              except:\n",
        "                continue\n",
        "                \n",
        "  def withdraw(self, amount): \n",
        "    while True:\n",
        "      try:\n",
        "        if isinstance(amount, int):\n",
        "          if self.balance - amount >= 0:\n",
        "            self.balance -= amount\n",
        "            print(f\"{self.name} withdrew ${amount}, new balance is ${self.balance}.\") \n",
        "            break\n",
        "            else:\n",
        "              raise BalanceError\n",
        "              else:\n",
        "                raise ValueError\n",
        "                except ValueError: \n",
        "                  try:\n",
        "                    amount = int(input(f\" select a valid amount of money: \")) \n",
        "                    except:\n",
        "                      continue except BalanceError:\n",
        "                      try:\n",
        "                        amount = int(input(f\"{self.name}, cant withdraw a amounts thats higher than balance (${self.balance}).\\nPlea\n",
        "                        except: \n",
        "                          continue\n",
        "\n",
        "lisa = customer('Lisa Wimp') \n",
        "maik = customer('Maik Hills')\n",
        "print(lisa)\n",
        "print(maik)\n",
        "\n",
        "lisa.deposit(12.34) \n",
        "maik.deposit(1234)\n",
        "\n",
        "#i had help from other students of this course because i found the task very hard for a beginner course!\n",
        "#please ask me if you need more infromations "
      ],
      "metadata": {
        "id": "mcZ6wBOO7a86"
      }
    }
  ],
  "metadata": {
    "kernelspec": {
      "display_name": "Python 3",
      "language": "python",
      "name": "python3"
    },
    "language_info": {
      "codemirror_mode": {
        "name": "ipython",
        "version": 2
      },
      "file_extension": ".py",
      "mimetype": "text/x-python",
      "name": "python",
      "nbconvert_exporter": "python",
      "pygments_lexer": "ipython2",
      "version": "2.7.6"
    },
    "colab": {
      "provenance": [],
      "include_colab_link": true
    }
  },
  "nbformat": 4,
  "nbformat_minor": 0
}