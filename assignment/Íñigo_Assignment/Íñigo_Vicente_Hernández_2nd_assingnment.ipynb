{
  "cells": [
    {
      "cell_type": "markdown",
      "metadata": {
        "collapsed": false,
        "id": "LZgQdr4W6iKz"
      },
      "source": [
        "# Assignment 02\n",
        "##### Python Basics II\n",
        "\n",
        "This tutorial was written by Terry Ruas (University of Göttingen); The references for external contributors for which this material was anyhow adapted/inspired are in the Acknowledgments section (end of the document).\n"
      ]
    },
    {
      "cell_type": "markdown",
      "metadata": {
        "collapsed": false,
        "id": "Yvektzz_6iK1"
      },
      "source": [
        "This notebook will cover the following tasks:\n",
        "\n",
        "1. String Length\n",
        "2. Largest List Element\n",
        "3. Character Frequency\n",
        "4. Sorted List of Tuples\n",
        "5. Check Brackets\n",
        "6. Check Brackets II\n",
        "7. Queue\n",
        "8. Unlimited Power\n",
        "9. Unlimited Power II"
      ]
    },
    {
      "cell_type": "markdown",
      "metadata": {
        "collapsed": false,
        "id": "4GPUv_8U6iK1"
      },
      "source": [
        "## Task 01 – String Length\n",
        "Write a program that reads in a string and prints the length of the input string. Do not use any built-in functions of Python, such as len().\n",
        "For example, if the input is “Computer Science”, the output should be length: 16."
      ]
    },
    {
      "cell_type": "code",
      "execution_count": 1,
      "metadata": {
        "id": "xt3XV0YD6iK2"
      },
      "outputs": [
        {
          "name": "stdout",
          "output_type": "stream",
          "text": [
            "16\n"
          ]
        }
      ],
      "source": [
        "string = input(\"Insert your string: \" )\n",
        "x=0\n",
        "for i in string:\n",
        "    x+=1\n",
        "print(x)\n"
      ]
    },
    {
      "cell_type": "markdown",
      "metadata": {
        "collapsed": false,
        "id": "_Jz4T4AQ6iK3"
      },
      "source": [
        "## Task 02 – Largest List Element\n",
        "Write a program that generates a list of 10 random integers between 1 and 100 and then finds and prints the largest element in the list. Do not use the built-in function max().\n",
        "For example, if the input is [23,3,42,29,12,15,8,4,37,34], the output should be the largest element: 42.\n",
        "\n",
        "Hint: Check out the module [random](https://docs.python.org/3.7/library/random.html)."
      ]
    },
    {
      "cell_type": "code",
      "execution_count": 17,
      "metadata": {
        "id": "aKLGcZ0_6iK3"
      },
      "outputs": [
        {
          "name": "stdout",
          "output_type": "stream",
          "text": [
            "89\n"
          ]
        }
      ],
      "source": [
        "import random \n",
        "num_list = []\n",
        "for i in range (10):\n",
        "    num_list.append(random.randint(1,100))\n",
        "num_list.sort()\n",
        "print(num_list[-1])"
      ]
    },
    {
      "cell_type": "markdown",
      "metadata": {
        "collapsed": false,
        "id": "PalhJ9x36iK4"
      },
      "source": [
        "## Task 03 – Character Frequency\n",
        "Write a program that:\n",
        "* Reads in a string and removes any spaces from the string\n",
        "* Counts how often individual characters occur in the string\n",
        "* Stores the information on character occurrence frequency in a dictionary\n",
        "* Prints the dictionary.\n",
        "\n",
        "For example, if the input is “santa claus”, the output should be:\n",
        "{'s': 2, 'a': 3, 'n': 1, 't': 1, 'c': 1, 'l': 1, 'u': 1}."
      ]
    },
    {
      "cell_type": "code",
      "execution_count": 10,
      "metadata": {
        "id": "vm5UlcKB6iK4"
      },
      "outputs": [
        {
          "name": "stdout",
          "output_type": "stream",
          "text": [
            "{'s': 2, 'a': 3, 'n': 1, 't': 1, 'c': 1, 'l': 1, 'u': 1}\n"
          ]
        }
      ],
      "source": [
        "string = input(\"Enter your string: \")\n",
        "string = string.replace(\" \", \"\")\n",
        "string_list = list(string)\n",
        "dictionary={}\n",
        "for i in string_list:\n",
        "    num = string_list.count(i)\n",
        "    dictionary [i] = num\n",
        "print(dictionary)\n",
        "\n",
        "    "
      ]
    },
    {
      "cell_type": "markdown",
      "metadata": {
        "collapsed": false,
        "id": "JV1Mm9qA6iK5"
      },
      "source": [
        "## Task 04 – Sorted List of Tuples\n",
        "Write a program that:\n",
        "* Generates a list of 10 tuples, each tuple consisting of 3 random integers between 1 and 100\n",
        "* Sorts the list of tuples in increasing order of the third element in each tuple\n",
        "* Prints the sorted list of tuples\n",
        "\n",
        "For example, if the generated input list is: [(56, 77, 69), (43, 30, 38), (2, 77, 101), (93, 57, 4), (74, 21, 77), (39, 68, 68), (65, 53, 96), (16, 29, 88), (88, 70, 38)]\n",
        "The output should be: [(93, 57, 4), (43, 30, 38), (88, 70, 38), (39, 68, 68), (56, 77, 69), (74, 21, 77), (16, 29, 88), (65, 53, 96), (2, 77, 101)]\n",
        "\n",
        "Hint: You are allowed and encouraged to use built-in functions, such as [sorted()](https://docs.python.org/3.7/library/functions.html?highlight=sorted#sorted), for this task."
      ]
    },
    {
      "cell_type": "code",
      "execution_count": 1,
      "metadata": {
        "id": "C3i7ctus6iK6"
      },
      "outputs": [
        {
          "name": "stdout",
          "output_type": "stream",
          "text": [
            "[(2, 72, 1), (87, 89, 18), (97, 93, 22), (20, 73, 36), (27, 87, 46), (13, 100, 46), (77, 74, 63), (11, 32, 75), (27, 56, 90), (45, 35, 97)]\n"
          ]
        }
      ],
      "source": [
        "import random\n",
        "list_of_tuples = [tuple(random.randint(1,100) for i in range(3)) for j in range (10)]\n",
        "list_of_tuples.sort(key = lambda x: x[2])\n",
        "print(list_of_tuples)\n",
        "\n"
      ]
    },
    {
      "cell_type": "markdown",
      "metadata": {
        "collapsed": false,
        "id": "qz4P36Lz6iK6"
      },
      "source": [
        "## Task 05 – Check Brackets\n",
        "Write a program that reads in a string, which is supposed to be a mathematical expression. Focus on brackets only and check whether left and right brackets are composed correctly. Ignore all other characters (i.e. you don’t have to check correctness of operators and operands).\n",
        "Examples of correct input:\n",
        "* 3*(2+5)\n",
        "* ((()())())\n",
        "* (3+)(((4)))\n",
        "* Empty string\n",
        "\n",
        "Examples of incorrect input:\n",
        "* (3*(2+5)\n",
        "* ((()())(())\n",
        "* (3+)((4)))\n",
        "* ())(()\n"
      ]
    },
    {
      "cell_type": "code",
      "execution_count": 4,
      "metadata": {
        "id": "2c67p_Zc6iK7"
      },
      "outputs": [
        {
          "name": "stdout",
          "output_type": "stream",
          "text": [
            "Correct input\n"
          ]
        }
      ],
      "source": [
        "o_bracket = 0\n",
        "c_bracket = 0\n",
        "math_expresion = input(\"Please enter your mathematical expression: \")\n",
        "for i in math_expresion:\n",
        "    if \"(\" in i:\n",
        "        o_bracket += 1\n",
        "    if \")\" in i:\n",
        "        c_bracket += 1\n",
        "        if o_bracket >= c_bracket:\n",
        "            continue\n",
        "        else:\n",
        "            print(\"Incorrect input, there's a closing bracket before one opened\") \n",
        "            break\n",
        "if o_bracket > c_bracket:\n",
        "    print (\"Incorrect input,there's more opening brackets than closing brackets \")\n",
        "else:\n",
        "    print(\"Correct input\")"
      ]
    },
    {
      "cell_type": "markdown",
      "metadata": {
        "collapsed": false,
        "id": "k1kh3odh6iK7"
      },
      "source": [
        "## Task 06 – Check Brackets II\n",
        "Extend previous program, so it can handle also square and curly brackets. Note that expressions in brackets cannot overlap. So, expression ```{[()()]([[]])}{}``` is correct, but expression ```([)]``` is not."
      ]
    },
    {
      "cell_type": "code",
      "execution_count": 6,
      "metadata": {
        "id": "2-UCbTRQ6iK7"
      },
      "outputs": [
        {
          "name": "stdout",
          "output_type": "stream",
          "text": [
            "Correct input\n"
          ]
        }
      ],
      "source": [
        "last_open = []\n",
        "brackets = '()[]{}'\n",
        "text = input(\"Input you expression: \")\n",
        "\n",
        "for letter in text:\n",
        "    if letter not in brackets:\n",
        "        continue\n",
        "    if letter == '(' or letter == '{' or letter == '[':\n",
        "        last_open.append(letter)\n",
        "    elif letter == \")\":\n",
        "        if len(last_open) > 0 and last_open[-1] == \"(\":\n",
        "            last_open.pop()\n",
        "        else:\n",
        "            print('ERROR')\n",
        "    elif letter == \"]\":\n",
        "        if len(last_open) > 0 and last_open[-1] == \"[\":\n",
        "            last_open.pop()\n",
        "        else:\n",
        "            print('ERROR')\n",
        "    elif letter == \"}\":\n",
        "        if len(last_open) > 0 and last_open[-1] == \"{\":\n",
        "            last_open.pop()\n",
        "        else:\n",
        "            print('ERROR')\n",
        "if len(last_open) == 0:\n",
        "    print('Correct input')\n",
        "else:\n",
        "    print('ERROR')    \n",
        "\n"
      ]
    },
    {
      "cell_type": "markdown",
      "metadata": {
        "collapsed": false,
        "id": "tc-8rPlP6iK7"
      },
      "source": [
        "## Task 07 – Queue\n",
        "Write a program that simulates a queue. It will read strings from the input. Consider these inputs as names of people coming to the end of a queue. Whenever “next” is given as input, the program will print out the name on the turn. The program finishes as soon as the queue is empty."
      ]
    },
    {
      "cell_type": "code",
      "execution_count": 18,
      "metadata": {
        "id": "X0o04N6s6iK7"
      },
      "outputs": [
        {
          "name": "stdout",
          "output_type": "stream",
          "text": [
            "Mike\n",
            "Len\n",
            "Charles\n",
            "Bobby\n",
            "Queue finished\n"
          ]
        }
      ],
      "source": [
        "queue = [input(\"Enter a name to join the queue or 'next' to call the next person: \")]\n",
        "while len(queue) > 0:\n",
        "    names = input(\"Enter a name to join the queue or 'next' to call the next person: \")\n",
        "    if names != \"next\":\n",
        "        queue.append(names)\n",
        "    elif names == \"next\":\n",
        "        print(queue[0])\n",
        "        queue.pop(0)\n",
        "else:\n",
        "    print(\"Queue finished\")"
      ]
    },
    {
      "cell_type": "markdown",
      "metadata": {
        "collapsed": false,
        "id": "eIhaN3g36iK8"
      },
      "source": [
        "## Task 08 – Unlimited Power\n",
        "Write a function with two arguments – $x$ and $n$. The function returns the value of $x^n$. Use [recursion](https://realpython.com/python-thinking-recursively/#recursive-data-structures-in-python)."
      ]
    },
    {
      "cell_type": "code",
      "execution_count": 10,
      "metadata": {
        "id": "KSGHEAeL6iK8"
      },
      "outputs": [
        {
          "name": "stdout",
          "output_type": "stream",
          "text": [
            "512\n",
            "1\n",
            "16384\n"
          ]
        }
      ],
      "source": [
        "def Unlimited_power(x,n):\n",
        "    if n == 0:\n",
        "        return 1\n",
        "    else:\n",
        "        return (x* Unlimited_power(x, n-1))\n",
        "print(Unlimited_power(2,9))\n",
        "print(Unlimited_power(2,0))\n",
        "print(Unlimited_power(4,7))"
      ]
    },
    {
      "cell_type": "markdown",
      "metadata": {
        "collapsed": false,
        "id": "WBh2WBXY6iK8"
      },
      "source": [
        "## Task 09 – Unlimited Power II\n",
        "Using function for factorial and function $x^n$ from previous task, write a program that reads value of $x$ and prints approximate value of $e^x$. Use this formula (Taylor series) for calculation\n",
        "$$ e^x = 1 + x + \\frac{x^2}{2!} + \\frac{x^3}{3!} + ... + \\frac{x^n}{n!} $$\n",
        "\n",
        "To get precise value of $e^x$, the series would have to be infinite. Suppose that there is some required accuracy, so the calculation finishes as soon as the value of the next element is smaller than given threshold (e.g., 0.000001)."
      ]
    },
    {
      "cell_type": "code",
      "execution_count": 17,
      "metadata": {
        "id": "tRaZgBVX6iK9"
      },
      "outputs": [
        {
          "name": "stdout",
          "output_type": "stream",
          "text": [
            "381.213030208675\n"
          ]
        }
      ],
      "source": [
        "import math \n",
        "def power_of_e_value(x):\n",
        "    result = 1 + x\n",
        "    iteration = 1\n",
        "    next_value = ((x ** iteration+1) / (math.factorial(iteration+1)))\n",
        "    while next_value > 1e-20:\n",
        "        result += next_value\n",
        "        iteration += 1\n",
        "        next_value = ((x ** iteration+1) / (math.factorial(iteration+1)))\n",
        "    return result\n",
        "print(power_of_e_value(8))"
      ]
    },
    {
      "cell_type": "markdown",
      "metadata": {
        "collapsed": false,
        "id": "Wl9JCEYM6iK-"
      },
      "source": [
        "## Acknowledgements\n",
        "\n",
        "Redmond, Hsu, Saini, Gupta, Ramsey, Kondrich, Capoor, Cohen, Borus, Kincaid, Malik, and many others. - Stanford CS41"
      ]
    },
    {
      "cell_type": "code",
      "execution_count": null,
      "metadata": {
        "id": "Bx-WQj4v6iK-"
      },
      "outputs": [],
      "source": []
    }
  ],
  "metadata": {
    "colab": {
      "provenance": []
    },
    "kernelspec": {
      "display_name": "Python 3",
      "language": "python",
      "name": "python3"
    },
    "language_info": {
      "codemirror_mode": {
        "name": "ipython",
        "version": 3
      },
      "file_extension": ".py",
      "mimetype": "text/x-python",
      "name": "python",
      "nbconvert_exporter": "python",
      "pygments_lexer": "ipython3",
      "version": "3.8.2 (tags/v3.8.2:7b3ab59, Feb 25 2020, 23:03:10) [MSC v.1916 64 bit (AMD64)]"
    },
    "vscode": {
      "interpreter": {
        "hash": "570feb405e2e27c949193ac68f46852414290d515b0ba6e5d90d076ed2284471"
      }
    }
  },
  "nbformat": 4,
  "nbformat_minor": 0
}
