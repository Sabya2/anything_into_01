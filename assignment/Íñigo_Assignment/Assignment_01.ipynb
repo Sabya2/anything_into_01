{
  "cells": [
    {
      "cell_type": "markdown",
      "metadata": {
        "collapsed": false,
        "id": "LZgQdr4W6iKz"
      },
      "source": [
        "# Assignment 01\n",
        "##### Python Basics I\n",
        "\n",
        "This tutorial was written by Terry Ruas (University of Göttingen). The references for external contributors for which this material was anyhow adapted/inspired are in the Acknowledgments section (end of the document).\n"
      ]
    },
    {
      "cell_type": "markdown",
      "metadata": {
        "collapsed": false,
        "id": "4GPUv_8U6iK1"
      },
      "source": [
        "## Task 01 – Hello World!\n",
        "Write a simple program that asks the user to input a name and outputs a simple greeting, such as ‘Hi Name! Nice to meet you!’ and in the other line, ‘Welcome to the Programing Course!’. \n",
        "\n",
        "*Hint: Check out the input () and print() function in Python.* "
      ]
    },
    {
      "cell_type": "code",
      "execution_count": 3,
      "metadata": {
        "colab": {
          "base_uri": "https://localhost:8080/"
        },
        "id": "xt3XV0YD6iK2",
        "outputId": "1a49fbde-df27-4cf0-95be-dea4b1152c15"
      },
      "outputs": [
        {
          "name": "stdout",
          "output_type": "stream",
          "text": [
            "Hi, student. What's your name?\n",
            "Hi jhg! Welcome to the Programming Course!\n"
          ]
        }
      ],
      "source": [
        "print(\"Hi, student. What's your name?\")\n",
        "name = input()\n",
        "print(\"Hi \"+ name + \"! \" + \"Welcome to the Programming Course!\" )"
      ]
    },
    {
      "cell_type": "markdown",
      "metadata": {
        "collapsed": false,
        "id": "_Jz4T4AQ6iK3"
      },
      "source": [
        "## Task 02 – Reversed Words\n",
        "Write a program that reads in a word provided by the user and prints the word in a reversed order. For example, if the input is hello, the output should be ‘olleh’. \n",
        "\n",
        "- Use a loop structure \n",
        "- Use just array indexes \n"
      ]
    },
    {
      "cell_type": "code",
      "execution_count": 4,
      "metadata": {
        "id": "aKLGcZ0_6iK3"
      },
      "outputs": [
        {
          "name": "stdout",
          "output_type": "stream",
          "text": [
            "olleH\n",
            "olleH\n"
          ]
        }
      ],
      "source": [
        "#Use a loop structure: \n",
        "word = input(\"Write a word you want to reverse \")\n",
        "reversed_word = \"\"\n",
        "for i in range(len(word)-1, -1,-1):\n",
        "    reversed_word = reversed_word + word [i]\n",
        "print(reversed_word)\n",
        "\n",
        "#Use just array indexes:\n",
        "word = input(\"Write a word you want to reverse \")\n",
        "print(word[-1::-1])\n"
      ]
    },
    {
      "cell_type": "markdown",
      "metadata": {
        "collapsed": false,
        "id": "PalhJ9x36iK4"
      },
      "source": [
        "## Task 03 –  Fibonacci Numbers\n",
        "Write a program that reads in an upper bound (number) provided by the user and prints the sequence of Fibonacci numbers that are less or equal to the number given by the user. Use a while-loop for this task. \n",
        "\n",
        "The Fibonacci sequence is defined as \n",
        "$ F_{n}=F_{n−1}+F_{n−2}$. Use $F_{0}=0$ and $F_{1} = 1$ as seed values.  \n",
        "\n",
        "For example, if the user inputs 6, the output should be 0, 1, 1, 2, 3, 5. \n",
        "\n",
        "\n",
        "\n"
      ]
    },
    {
      "cell_type": "code",
      "execution_count": 7,
      "metadata": {
        "id": "vm5UlcKB6iK4"
      },
      "outputs": [
        {
          "name": "stdout",
          "output_type": "stream",
          "text": [
            "0\n",
            "1\n",
            "1\n",
            "2\n",
            "3\n",
            "5\n",
            "8\n",
            "13\n",
            "21\n",
            "34\n",
            "55\n"
          ]
        }
      ],
      "source": [
        "number = int(input(\"Please, enter a number to get the Fibonacci sequence up to that position \"))\n",
        "def fibonacci(i):\n",
        "    if i == 0:\n",
        "        return 0\n",
        "    elif i == 1:\n",
        "        return 1\n",
        "    else:\n",
        "        return fibonacci(i-1) + fibonacci(i-2)\n",
        "\n",
        "for i in range(number):\n",
        "    print(fibonacci(i))"
      ]
    },
    {
      "cell_type": "markdown",
      "metadata": {
        "collapsed": false,
        "id": "JV1Mm9qA6iK5"
      },
      "source": [
        "## Task 04 – Selective Printing \n",
        "\n",
        "Write a program that reads in an upper bound (number) provided by the user and prints all integer numbers that are less or equal to the upper bound except the integer numbers that are divisible by 3. Use the continue statement. For example, if the user enters 6 as the upper bound, the output should be 0, 1, 2, 4, 5.  "
      ]
    },
    {
      "cell_type": "code",
      "execution_count": 8,
      "metadata": {
        "id": "C3i7ctus6iK6"
      },
      "outputs": [
        {
          "name": "stdout",
          "output_type": "stream",
          "text": [
            "0\n",
            "1\n",
            "2\n",
            "4\n",
            "5\n"
          ]
        }
      ],
      "source": [
        "num =int(input(\"Please, enter your number \"))\n",
        "for i in range (num):\n",
        "      if i == 0:\n",
        "        print(i)\n",
        "      if i%3 != 0:\n",
        "        print(i)\n",
        "      continue\n"
      ]
    },
    {
      "cell_type": "markdown",
      "metadata": {
        "collapsed": false,
        "id": "qz4P36Lz6iK6"
      },
      "source": [
        "## Task 05 – Triangle Checking   \n",
        "\n",
        "Write a Python program that asks the user to input the lengths of the sides in a triangle and outputs whether the triangle is equilateral, isosceles, or scalene. The program should also check for the Triangle inequality $(z < x + y)$,  and prompt the user for a valid input. \n",
        "\n",
        "- An equilateral triangle is a triangle in which all three sides are of equal length. \n",
        "- An isosceles triangle is a triangle with (at least) two sides of equal length. \n",
        "- A scalene triangle is a triangle in which all three sides have different lengths. \n",
        "\n",
        "For example, if the user inputs a=3, b=4, c=5, the triangle is scalene. \n"
      ]
    },
    {
      "cell_type": "code",
      "execution_count": 1,
      "metadata": {
        "id": "2c67p_Zc6iK7"
      },
      "outputs": [],
      "source": [
        "#Triangle checker\n",
        "a = int(input(\"Introduce side a \"))\n",
        "b = int(input(\"Introduce side b \"))\n",
        "c = int(input(\"Introduce side c \"))\n",
        "while a < b + c and b < a + c and c < b + a:\n",
        "  if a == b == c:\n",
        "    print(\"Your triangle is equilateral\")\n",
        "  elif a == b or c == b or c == a:\n",
        "    print(\"Your triangle is isosceles\")\n",
        "  else:\n",
        "    print(\"Your triangle is scalene\")\n",
        "  break\n",
        "else:\n",
        "  print(\"This measures don't belong to a triangle\")"
      ]
    },
    {
      "cell_type": "markdown",
      "metadata": {
        "collapsed": false,
        "id": "k1kh3odh6iK7"
      },
      "source": [
        "## Task 06 – Decimal to Octal Conversion \n",
        "\n",
        "Write a program that reads a non-negative integer number in the decimal representation provided by the user and prints the octal representation of the number. For example, if the user enters 167, the output should be 247.  \n",
        "\n",
        "Write a more general program that reads in a non-negative number (potentially including decimal places) in the decimal representation provided by the user and prints the octal representation of the number. For example, if the user enters 25.11, the output should be 31.0702436560507534. "
      ]
    },
    {
      "cell_type": "code",
      "execution_count": 16,
      "metadata": {
        "id": "2-UCbTRQ6iK7"
      },
      "outputs": [
        {
          "name": "stdout",
          "output_type": "stream",
          "text": [
            "247\n"
          ]
        },
        {
          "data": {
            "text/plain": [
              "'31.0702436560507534'"
            ]
          },
          "execution_count": 16,
          "metadata": {},
          "output_type": "execute_result"
        }
      ],
      "source": [
        "#1st task\n",
        "num = int(input(\"Insert the decimal number you want to transform to octal \"))\n",
        "print(oct(num)[2:])\n",
        "\n",
        "#2nd task\n",
        "def octalfloat(num):\n",
        "    result = oct(int(num//1)).lstrip(\"0o\") + \".\"\n",
        "    decimal = round(num % 1, 6)\n",
        "    for i in range(16):\n",
        "        decimal *= 8\n",
        "        result += str(int(decimal//1))\n",
        "        decimal = round(decimal % 1, 6)\n",
        "    return result\n",
        "octalfloat(25.11)"
      ]
    },
    {
      "cell_type": "markdown",
      "metadata": {
        "collapsed": false,
        "id": "Wl9JCEYM6iK-"
      },
      "source": [
        "## Acknowledgements\n",
        "\n",
        "Redmond, Hsu, Saini, Gupta, Ramsey, Kondrich, Capoor, Cohen, Borus, Kincaid, Malik, and many others. - Stanford CS41"
      ]
    },
    {
      "cell_type": "code",
      "execution_count": null,
      "metadata": {
        "id": "Bx-WQj4v6iK-"
      },
      "outputs": [],
      "source": []
    }
  ],
  "metadata": {
    "colab": {
      "collapsed_sections": [],
      "provenance": []
    },
    "kernelspec": {
      "display_name": "Python 3.8.2 64-bit",
      "language": "python",
      "name": "python3"
    },
    "language_info": {
      "codemirror_mode": {
        "name": "ipython",
        "version": 3
      },
      "file_extension": ".py",
      "mimetype": "text/x-python",
      "name": "python",
      "nbconvert_exporter": "python",
      "pygments_lexer": "ipython3",
      "version": "3.8.2"
    },
    "vscode": {
      "interpreter": {
        "hash": "570feb405e2e27c949193ac68f46852414290d515b0ba6e5d90d076ed2284471"
      }
    }
  },
  "nbformat": 4,
  "nbformat_minor": 0
}
