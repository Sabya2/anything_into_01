{
  "cells": [
    {
      "cell_type": "markdown",
      "metadata": {
        "id": "view-in-github",
        "colab_type": "text"
      },
      "source": [
        "<a href=\"https://colab.research.google.com/github/Sabya2/anything_into_01/blob/main/04_Assignment_Python.ipynb\" target=\"_parent\"><img src=\"https://colab.research.google.com/assets/colab-badge.svg\" alt=\"Open In Colab\"/></a>"
      ]
    },
    {
      "cell_type": "markdown",
      "source": [
        "# Assignment 04\n",
        "#### Python Basics IV - Functions, Unity Testing, and Logging\n",
        "\n",
        "This tutorial was written by Terry L. Ruas (University of Göttingen). The references for external contributors for which this material was anyhow adapted/inspired are in the Acknowledgments section (end of the document)."
      ],
      "metadata": {
        "collapsed": false,
        "id": "_ikvQGPR7a99"
      }
    },
    {
      "cell_type": "markdown",
      "source": [
        "This notebook will cover the following tasks:\n",
        "\n",
        "1. Lambda functions\n",
        "2. List comprehensions\n",
        "3. Unity Test\n",
        "4. HTTP Request\n",
        "5. Logging\n",
        "6. Download File"
      ],
      "metadata": {
        "collapsed": false,
        "id": "SchiSV187a9-"
      }
    },
    {
      "cell_type": "markdown",
      "source": [
        "## Task 01 – Lambda functions\n",
        "Python supports lambda functions as a handy way to define small, anonymous, i.e., unnamed, functions inline. The basic syntax for lambda functions is:\n",
        "$$\n",
        " \\textbf{lambda}\\text{ parameter1, parameter2, ... : }\\textbf{expression}\n",
        "$$\n",
        "Use a lambda function only to retain the even values in an array of integers. Test your function with an input array of your choosing. Print the input array and the filtered output array to stdout."
      ],
      "metadata": {
        "collapsed": false,
        "id": "QOoNCxgu7a-A"
      }
    },
    {
      "cell_type": "code",
      "execution_count": null,
      "outputs": [],
      "source": [
        "def lambdarr(arr):\n",
        "  return list(filter(lambda n:n%2==0,arr))\n",
        "\n",
        "testliste = [randint(0,1001) for x in range(20)] \n",
        "print(testliste)\n",
        "print(lambdarr(testliste))\n"
      ],
      "metadata": {
        "id": "5keoJAOw7a-B"
      }
    },
    {
      "cell_type": "markdown",
      "source": [
        "## Task 02 – List comprehensions\n",
        "Python supports list comprehension. The basic syntax of list comprehensions is:\n",
        "$$\n",
        "\\text{L = [<elem> for <elem> <Condition>]}\n",
        "$$\n",
        "Use list comprehensions to write a Python function *remove_long_words()* that:\n",
        "- accepts a sentence s and an integer n as input parameters\n",
        "- uses the *split()* function of String objects to split the sentence into words\n",
        "- stores the individual words in a list\n",
        "- removes all words that are longer than n characters from the list, thereby creating a new list\n",
        "- prints the list to stdout"
      ],
      "metadata": {
        "collapsed": false,
        "id": "XSyLzHT17a-B"
      }
    },
    {
      "cell_type": "code",
      "execution_count": null,
      "outputs": [],
      "source": [
        "def remove_long_word(sentence, n):\n",
        "  sentence = sentence.split()\n",
        "  result = [word for word in sentence if len(word)<=n] \n",
        "  return result\n",
        "\n",
        " remove_long_word(\"This tutorial was written by Terry L. Ruas (University Göttingen).\", 7)"
      ],
      "metadata": {
        "id": "hT-mGe_T7a-B"
      }
    },
    {
      "cell_type": "markdown",
      "source": [
        "## Task 03 – Unity Test\n",
        "The following algorithm in Python converts numbers in decimal representation to binary.\n",
        "1. Develop a unit test that checks for values in the interval \\[-1,3\\] whether the algorithm returns the\n",
        "expected results.\n",
        "2. Adjust the algorithm, so it passes the unit test developed in 1). Rename the function to\n",
        "*decimal_to_binary_correct()*"
      ],
      "metadata": {
        "collapsed": false,
        "id": "_QHEBddh7a-C"
      }
    },
    {
      "cell_type": "code",
      "execution_count": null,
      "outputs": [],
      "source": [
        "def decimal2binary(n):\n",
        "  x= []\n",
        "  while n > 0:\n",
        "    x.append(n % 2)\n",
        "    n = math.floor(n/2)\n",
        "  result = int(''.join([str(num) for num in x[::-1]])) \n",
        "  \n",
        "  return result\n",
        "\n",
        "def eigenbin(n):\n",
        "  if n<0:\n",
        "    return int(''.join([x for x in [*bin(n)][3:]]))*-1 \n",
        "    else:\n",
        "      return int(''.join([x for x in [*bin(n)][2:]]))\n",
        "\n",
        "print(decimal2binary(6))\n",
        "print(eigenbin(6))\n",
        "\n",
        "print(eigenbin(-1)) \n",
        "print(decimal2binary(-1))\n",
        "\n",
        "def bincheck():\n",
        "  for n in range(-1, 4):\n",
        "    assert decimal2binary(n) == eigenbin(n), \"not correct xD\"\n",
        "\n",
        " bincheck()\n",
        "\n",
        "def d2b_correct(num):\n",
        "  negative = False\n",
        "  if num < 0:\n",
        "    negative = True \n",
        "    n = abs(num)\n",
        "    x = []\n",
        "    while n > 0:\n",
        "      x.append(n % 2)\n",
        "      n = math.floor(n/2)\n",
        "    result = int(''.join([str(num) for num in x[::-1]]))\n",
        "    if negative:\n",
        "      return result*-1\n",
        "      else:\n",
        "        return result\n",
        "\n"
      ],
      "metadata": {
        "id": "IdFKIU4u7a-C"
      }
    },
    {
      "cell_type": "code",
      "execution_count": null,
      "outputs": [],
      "source": [
        "print(\"decimal2binary:\\t\", decimal2binary(8))\n",
        "print(\"eigenbin: \\t\", eigenbin(8))\n",
        "print(\"d2b_correct: \\t\", d2b_correct(8))\n",
        "\n",
        "print(\"eigenbin: \\t\", eigenbin(-8)) \n",
        "print(\"d2b_correct: \\t\", d2b_correct(-8))\n"
      ],
      "metadata": {
        "id": "McO91gqP7a-D"
      }
    },
    {
      "cell_type": "markdown",
      "source": [
        "## Task 04 – HTTP Request\n",
        "Working with HTTP connections is essential for many data gathering tasks. The Python library *urllib* provides all functionality we need.\n",
        "Write a Python function *open_url(url)* that:\n",
        "- uses urllib to establish a HTTP connection to an arbitrary website\n",
        "- retrieves and prints the first 200 characters of the html resource, i.e. the html source code, of the chosen website\n",
        "- handles the exceptions thrown by the *urllib.request* function\n",
        "\n",
        "FYI: The basic syntax for exception handling in Python is as follows:\n",
        "```\n",
        "try:\n",
        "    ...\n",
        "    return ...\n",
        "except SomeError1 as e:\n",
        "    # error-specific exception handling\n",
        "except SomeError2 as e:\n",
        "    # error-specific exception handling\n",
        "except\n",
        "    # general exception handling\n",
        "```"
      ],
      "metadata": {
        "collapsed": false,
        "id": "iNLOQ5y47a-E"
      }
    },
    {
      "cell_type": "code",
      "execution_count": null,
      "outputs": [],
      "source": [
        " def open_url(url): \n",
        "   while True:\n",
        "     try:\n",
        "       with request.urlopen(url) as response:\n",
        "                htmlsource = response.read()\n",
        "                text = htmlsource.decode('utf-8') \n",
        "                return text[:200]\n",
        "                \n",
        "     except ValueError: \n",
        "       print(\"\"\" Value error: Please provide a valid url in the format \"http://your_url\" or \"https://your_url\"\"\"\")\n",
        "       url = input()\n",
        "       continue\n",
        "     except (NameError, URLError, HTTPError) as err:\n",
        "            print(\"An error occured: \", err)\n",
        "\n",
        " open_url(\"www.fast.com\")\n",
        "\n",
        "print(open_url(\"http://example.com/\"))\n",
        "print()\n",
        "\n",
        "print(open_url(\"https://python.org/\"))"
      ],
      "metadata": {
        "id": "NaCXxVlB7a-E"
      }
    },
    {
      "cell_type": "markdown",
      "source": [
        "## Task 05 – Logging\n",
        "The logging module in Python provides functionality for logging and debugging purposes. Use the logging module to extend the error handling for the function that you implemented to establish a HTTP connection (Task 4). All exceptions thrown by your function shall be logged as errors.\n",
        "\n",
        "To accomplish the task:\n",
        "- write a Python function *init_log(file_name, file_mode, level, format, date_format)* that initializes a custom log file to which all debugging information and errors are appended using a format that includes the date, time, level and the message of the logging event\n",
        "- log occurring errors by calling *logging.error(...)*\n",
        "- close the log after completing your task by calling *logging.shutdown()*\n",
        "\n",
        "If you choose not to complete Tasks 4, test the logging functionality with a few examples of your own."
      ],
      "metadata": {
        "collapsed": false,
        "id": "ogac-RcI7a-F"
      }
    },
    {
      "cell_type": "code",
      "execution_count": null,
      "outputs": [],
      "source": [
        "def init_log(file_name, file_mode='a', level=logging.DEBUG, logformat='%(asctime)s - %(levelname)s - %(message)s', date_format='%Y-% \n",
        "logging.basicConfig(filename=file_name, filemode=file_mode, level=level, format=logformat, datefmt=date_format)\n",
        "\n",
        "def open_url(url): \n",
        "  init_log(\"open_url.log\") \n",
        "  while True:\n",
        "    try:\n",
        "      with request.urlopen(url) as response:\n",
        "        logging.info(f\"opened url {url} as HTTPResponse object\") \n",
        "        htmlsource = response.read()\n",
        "        logging.info(f\"read in html from {url}\")\n",
        "        text = htmlsource.decode('utf-8') \n",
        "        logging.info(\"decoded html\") \n",
        "        return text[:200]\n",
        "    except ValueError:\n",
        "      logging.warning(f\"VALUE ERROR for {url}\")\n",
        "      print(\"\"\"Value error: Please provide a valid url in the format \"http://your_url\" or \"https://your_url\"\"\"\")\n",
        "      url = input()\n",
        "      continue\n",
        "    except (NameError, URLError, HTTPError) as err: \n",
        "      logging.error(\"%s\", err)\n",
        "      print(\"An error occured: \", err)\n",
        "    logging.shutdown()"
      ],
      "metadata": {
        "id": "hT8RvjYU7a-F"
      }
    },
    {
      "cell_type": "markdown",
      "source": [
        "## Task 06 – Download File\n",
        "In Task 4, you used the *urllib* library to establish a http connection. You can also use the *urllib* library to perform simple file downloads.\n",
        "\n",
        "Write a Python function *download_file(url, path)* that:\n",
        "- checks whether the input URL points to a .txt file\n",
        "- if the input URL points to a .txt file, uses the *urllib* library to download and write the text file to the given path on your machine\n",
        "- logs an error “No text file found at given URL, download aborted!” to the log file created in Task 5 if the input URL does not point to a .txt file.\n",
        "- properly handles exceptions\n",
        "\n",
        "Use the *download_file()* function to download William Shakespeare’s drama Macbeth as a plain\n",
        "text file from: [Macbeth](https://ia802707.us.archive.org/1/items/macbeth02264gut/0ws3410.txt)"
      ],
      "metadata": {
        "collapsed": false,
        "id": "FFvlZPUc7a-G"
      }
    },
    {
      "cell_type": "code",
      "execution_count": null,
      "outputs": [],
      "source": [
        " testurl = \"https://ia802707.us.archive.org/1/items/macbeth02264gut/0ws3410.txt\" \n",
        " print(testurl.rsplit(\".\", 1)[-1])\n",
        "\n",
        "def download_file(url, path): \n",
        "  init_log(\"download_file.log\") \n",
        "  try:\n",
        "    if url.rsplit('.')[-1] == \"txt\":\n",
        "      with request.urlopen(url) as file: \n",
        "        content = file.read().decode()\n",
        "        \n",
        "      with open(path, 'a') as download: \n",
        "        download.write(content) \n",
        "        logging.info(\"successfully retrieved txt file\")\n",
        "        \n",
        "        else:\n",
        "          raise URLError\n",
        "          except URLError:\n",
        "            logging.error(\"No text file found at given URL, download aborted!\")\n",
        "            except:\n",
        "              print(\"Please provide a valid URL\")\n",
        "            logging.shutdown()\n",
        "\n",
        " download_file(testurl, \"./macbeth.txt\")\n",
        "\n",
        " # in a session it has been saied that if we have problems with the tastks ( or in general) we are allowed to work together. \n",
        " # so i want to mention that i had hepl with this tasks from members ob my group"
      ],
      "metadata": {
        "id": "3L-DwhcZ7a-G"
      }
    }
  ],
  "metadata": {
    "kernelspec": {
      "display_name": "Python 3",
      "language": "python",
      "name": "python3"
    },
    "language_info": {
      "codemirror_mode": {
        "name": "ipython",
        "version": 2
      },
      "file_extension": ".py",
      "mimetype": "text/x-python",
      "name": "python",
      "nbconvert_exporter": "python",
      "pygments_lexer": "ipython2",
      "version": "2.7.6"
    },
    "colab": {
      "provenance": [],
      "include_colab_link": true
    }
  },
  "nbformat": 4,
  "nbformat_minor": 0
}
