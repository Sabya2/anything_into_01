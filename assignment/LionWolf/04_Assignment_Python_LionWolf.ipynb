{
 "cells": [
  {
   "cell_type": "code",
   "execution_count": 1,
   "metadata": {},
   "outputs": [],
   "source": [
    "from random import randint\n",
    "import math\n",
    "from urllib import request \n",
    "import logging\n",
    "from datetime import datetime"
   ]
  },
  {
   "cell_type": "markdown",
   "metadata": {
    "id": "_ikvQGPR7a99"
   },
   "source": [
    "# Assignment 04\n",
    "#### Python Basics IV - Functions, Unity Testing, and Logging\n",
    "\n",
    "This tutorial was written by Terry L. Ruas (University of Göttingen). The references for external contributors for which this material was anyhow adapted/inspired are in the Acknowledgments section (end of the document)."
   ]
  },
  {
   "cell_type": "markdown",
   "metadata": {
    "id": "SchiSV187a9-"
   },
   "source": [
    "This notebook will cover the following tasks:\n",
    "\n",
    "1. Lambda functions\n",
    "2. List comprehensions\n",
    "3. Unity Test\n",
    "4. HTTP Request\n",
    "5. Logging\n",
    "6. Download File"
   ]
  },
  {
   "cell_type": "markdown",
   "metadata": {
    "id": "QOoNCxgu7a-A"
   },
   "source": [
    "## Task 01 – Lambda functions\n",
    "Python supports lambda functions as a handy way to define small, anonymous, i.e., unnamed, functions inline. The basic syntax for lambda functions is:\n",
    "$$\n",
    " \\textbf{lambda}\\text{ parameter1, parameter2, ... : }\\textbf{expression}\n",
    "$$\n",
    "Use a lambda function only to retain the even values in an array of integers. Test your function with an input array of your choosing. Print the input array and the filtered output array to stdout."
   ]
  },
  {
   "cell_type": "code",
   "execution_count": 2,
   "metadata": {
    "id": "5keoJAOw7a-B"
   },
   "outputs": [],
   "source": [
    "def lambdarr(arr):\n",
    "    return list(filter(lambda n:n%2==0,arr))  # funktioniert nicht mit [] statt list()??"
   ]
  },
  {
   "cell_type": "code",
   "execution_count": 3,
   "metadata": {},
   "outputs": [
    {
     "name": "stdout",
     "output_type": "stream",
     "text": [
      "[626, 249, 181, 788, 663, 350, 334, 573, 884, 806, 919, 337, 237, 229, 470, 682, 562, 995, 557, 218]\n",
      "[626, 788, 350, 334, 884, 806, 470, 682, 562, 218]\n"
     ]
    }
   ],
   "source": [
    "testliste = [randint(0,1001) for x in range(20)]\n",
    "print(testliste)\n",
    "print(lambdarr(testliste))"
   ]
  },
  {
   "cell_type": "markdown",
   "metadata": {
    "id": "XSyLzHT17a-B"
   },
   "source": [
    "## Task 02 – List comprehensions\n",
    "Python supports list comprehension. The basic syntax of list comprehensions is:\n",
    "$$\n",
    "\\text{L = [<elem> for <elem> <Condition>]}\n",
    "$$\n",
    "Use list comprehensions to write a Python function *remove_long_words()* that:\n",
    "- accepts a sentence s and an integer n as input parameters\n",
    "- uses the *split()* function of String objects to split the sentence into words\n",
    "- stores the individual words in a list\n",
    "- removes all words that are longer than n characters from the list, thereby creating a new list\n",
    "- prints the list to stdout"
   ]
  },
  {
   "cell_type": "code",
   "execution_count": 4,
   "metadata": {
    "id": "hT-mGe_T7a-B"
   },
   "outputs": [],
   "source": [
    "def remove_long_word(sentence, n):\n",
    "    sentence = sentence.split()\n",
    "    result = [word for word in sentence if len(word)<=n]\n",
    "    return result"
   ]
  },
  {
   "cell_type": "code",
   "execution_count": 5,
   "metadata": {},
   "outputs": [
    {
     "data": {
      "text/plain": [
       "['This', 'was', 'written', 'by', 'Terry', 'L.', 'Ruas']"
      ]
     },
     "execution_count": 5,
     "metadata": {},
     "output_type": "execute_result"
    }
   ],
   "source": [
    "remove_long_word(\"This tutorial was written by Terry L. Ruas (University Göttingen).\", 7)"
   ]
  },
  {
   "cell_type": "markdown",
   "metadata": {
    "id": "_QHEBddh7a-C"
   },
   "source": [
    "## Task 03 – Unity Test\n",
    "The following algorithm in Python converts numbers in decimal representation to binary.\n",
    "1. Develop a unit test that checks for values in the interval \\[-1,3\\] whether the algorithm returns the\n",
    "expected results.\n",
    "2. Adjust the algorithm, so it passes the unit test developed in 1). Rename the function to\n",
    "*decimal_to_binary_correct()*"
   ]
  },
  {
   "cell_type": "code",
   "execution_count": 6,
   "metadata": {
    "id": "IdFKIU4u7a-C"
   },
   "outputs": [],
   "source": [
    "def decimal2binary(n):\n",
    "    # function to convert decimal integers to binary\n",
    "    x = []\n",
    "    while n > 0:\n",
    "        x.append(n % 2)\n",
    "        n = math.floor(n/2)\n",
    "    result = int(''.join([str(num) for num in x[::-1]])) # convert output to binary representation \n",
    "    return result\n"
   ]
  },
  {
   "cell_type": "code",
   "execution_count": 7,
   "metadata": {},
   "outputs": [],
   "source": [
    "def eigenbin(n):\n",
    "    # binary converter with builtin bin() \n",
    "    if n<0:\n",
    "        return int(''.join([x for x in [*bin(n)][3:]]))*-1\n",
    "    else:\n",
    "        return int(''.join([x for x in [*bin(n)][2:]]))"
   ]
  },
  {
   "cell_type": "code",
   "execution_count": 8,
   "metadata": {
    "id": "McO91gqP7a-D"
   },
   "outputs": [
    {
     "name": "stdout",
     "output_type": "stream",
     "text": [
      "110\n",
      "110\n",
      "-1\n"
     ]
    },
    {
     "ename": "ValueError",
     "evalue": "invalid literal for int() with base 10: ''",
     "output_type": "error",
     "traceback": [
      "\u001b[0;31m---------------------------------------------------------------------------\u001b[0m",
      "\u001b[0;31mValueError\u001b[0m                                Traceback (most recent call last)",
      "Cell \u001b[0;32mIn[8], line 6\u001b[0m\n\u001b[1;32m      4\u001b[0m \u001b[38;5;66;03m# negative values not considered in decimal2binary()\u001b[39;00m\n\u001b[1;32m      5\u001b[0m \u001b[38;5;28mprint\u001b[39m(eigenbin(\u001b[38;5;241m-\u001b[39m\u001b[38;5;241m1\u001b[39m))\n\u001b[0;32m----> 6\u001b[0m \u001b[38;5;28mprint\u001b[39m(\u001b[43mdecimal2binary\u001b[49m\u001b[43m(\u001b[49m\u001b[38;5;241;43m-\u001b[39;49m\u001b[38;5;241;43m1\u001b[39;49m\u001b[43m)\u001b[49m)  \n",
      "Cell \u001b[0;32mIn[6], line 7\u001b[0m, in \u001b[0;36mdecimal2binary\u001b[0;34m(n)\u001b[0m\n\u001b[1;32m      5\u001b[0m     x\u001b[38;5;241m.\u001b[39mappend(n \u001b[38;5;241m%\u001b[39m \u001b[38;5;241m2\u001b[39m)\n\u001b[1;32m      6\u001b[0m     n \u001b[38;5;241m=\u001b[39m math\u001b[38;5;241m.\u001b[39mfloor(n\u001b[38;5;241m/\u001b[39m\u001b[38;5;241m2\u001b[39m)\n\u001b[0;32m----> 7\u001b[0m result \u001b[38;5;241m=\u001b[39m \u001b[38;5;28;43mint\u001b[39;49m\u001b[43m(\u001b[49m\u001b[38;5;124;43m'\u001b[39;49m\u001b[38;5;124;43m'\u001b[39;49m\u001b[38;5;241;43m.\u001b[39;49m\u001b[43mjoin\u001b[49m\u001b[43m(\u001b[49m\u001b[43m[\u001b[49m\u001b[38;5;28;43mstr\u001b[39;49m\u001b[43m(\u001b[49m\u001b[43mnum\u001b[49m\u001b[43m)\u001b[49m\u001b[43m \u001b[49m\u001b[38;5;28;43;01mfor\u001b[39;49;00m\u001b[43m \u001b[49m\u001b[43mnum\u001b[49m\u001b[43m \u001b[49m\u001b[38;5;129;43;01min\u001b[39;49;00m\u001b[43m \u001b[49m\u001b[43mx\u001b[49m\u001b[43m[\u001b[49m\u001b[43m:\u001b[49m\u001b[43m:\u001b[49m\u001b[38;5;241;43m-\u001b[39;49m\u001b[38;5;241;43m1\u001b[39;49m\u001b[43m]\u001b[49m\u001b[43m]\u001b[49m\u001b[43m)\u001b[49m\u001b[43m)\u001b[49m \u001b[38;5;66;03m# convert output to binary representation \u001b[39;00m\n\u001b[1;32m      8\u001b[0m \u001b[38;5;28;01mreturn\u001b[39;00m result\n",
      "\u001b[0;31mValueError\u001b[0m: invalid literal for int() with base 10: ''"
     ]
    }
   ],
   "source": [
    "print(decimal2binary(6))\n",
    "print(eigenbin(6))\n",
    "\n",
    "# negative values not considered in decimal2binary()\n",
    "print(eigenbin(-1))\n",
    "print(decimal2binary(-1))  \n"
   ]
  },
  {
   "cell_type": "code",
   "execution_count": 9,
   "metadata": {},
   "outputs": [],
   "source": [
    "def bincheck():\n",
    "    for n in range(-1, 4):\n",
    "        assert decimal2binary(n) == eigenbin(n), \"not correct xD\" \n",
    "        "
   ]
  },
  {
   "cell_type": "code",
   "execution_count": 10,
   "metadata": {},
   "outputs": [
    {
     "ename": "ValueError",
     "evalue": "invalid literal for int() with base 10: ''",
     "output_type": "error",
     "traceback": [
      "\u001b[0;31m---------------------------------------------------------------------------\u001b[0m",
      "\u001b[0;31mValueError\u001b[0m                                Traceback (most recent call last)",
      "Cell \u001b[0;32mIn[10], line 1\u001b[0m\n\u001b[0;32m----> 1\u001b[0m \u001b[43mbincheck\u001b[49m\u001b[43m(\u001b[49m\u001b[43m)\u001b[49m\n",
      "Cell \u001b[0;32mIn[9], line 3\u001b[0m, in \u001b[0;36mbincheck\u001b[0;34m()\u001b[0m\n\u001b[1;32m      1\u001b[0m \u001b[38;5;28;01mdef\u001b[39;00m \u001b[38;5;21mbincheck\u001b[39m():\n\u001b[1;32m      2\u001b[0m     \u001b[38;5;28;01mfor\u001b[39;00m n \u001b[38;5;129;01min\u001b[39;00m \u001b[38;5;28mrange\u001b[39m(\u001b[38;5;241m-\u001b[39m\u001b[38;5;241m1\u001b[39m, \u001b[38;5;241m4\u001b[39m):\n\u001b[0;32m----> 3\u001b[0m         \u001b[38;5;28;01massert\u001b[39;00m \u001b[43mdecimal2binary\u001b[49m\u001b[43m(\u001b[49m\u001b[43mn\u001b[49m\u001b[43m)\u001b[49m \u001b[38;5;241m==\u001b[39m eigenbin(n), \u001b[38;5;124m\"\u001b[39m\u001b[38;5;124mnot correct xD\u001b[39m\u001b[38;5;124m\"\u001b[39m\n",
      "Cell \u001b[0;32mIn[6], line 7\u001b[0m, in \u001b[0;36mdecimal2binary\u001b[0;34m(n)\u001b[0m\n\u001b[1;32m      5\u001b[0m     x\u001b[38;5;241m.\u001b[39mappend(n \u001b[38;5;241m%\u001b[39m \u001b[38;5;241m2\u001b[39m)\n\u001b[1;32m      6\u001b[0m     n \u001b[38;5;241m=\u001b[39m math\u001b[38;5;241m.\u001b[39mfloor(n\u001b[38;5;241m/\u001b[39m\u001b[38;5;241m2\u001b[39m)\n\u001b[0;32m----> 7\u001b[0m result \u001b[38;5;241m=\u001b[39m \u001b[38;5;28;43mint\u001b[39;49m\u001b[43m(\u001b[49m\u001b[38;5;124;43m'\u001b[39;49m\u001b[38;5;124;43m'\u001b[39;49m\u001b[38;5;241;43m.\u001b[39;49m\u001b[43mjoin\u001b[49m\u001b[43m(\u001b[49m\u001b[43m[\u001b[49m\u001b[38;5;28;43mstr\u001b[39;49m\u001b[43m(\u001b[49m\u001b[43mnum\u001b[49m\u001b[43m)\u001b[49m\u001b[43m \u001b[49m\u001b[38;5;28;43;01mfor\u001b[39;49;00m\u001b[43m \u001b[49m\u001b[43mnum\u001b[49m\u001b[43m \u001b[49m\u001b[38;5;129;43;01min\u001b[39;49;00m\u001b[43m \u001b[49m\u001b[43mx\u001b[49m\u001b[43m[\u001b[49m\u001b[43m:\u001b[49m\u001b[43m:\u001b[49m\u001b[38;5;241;43m-\u001b[39;49m\u001b[38;5;241;43m1\u001b[39;49m\u001b[43m]\u001b[49m\u001b[43m]\u001b[49m\u001b[43m)\u001b[49m\u001b[43m)\u001b[49m \u001b[38;5;66;03m# convert output to binary representation \u001b[39;00m\n\u001b[1;32m      8\u001b[0m \u001b[38;5;28;01mreturn\u001b[39;00m result\n",
      "\u001b[0;31mValueError\u001b[0m: invalid literal for int() with base 10: ''"
     ]
    }
   ],
   "source": [
    "bincheck()"
   ]
  },
  {
   "cell_type": "code",
   "execution_count": 11,
   "metadata": {},
   "outputs": [],
   "source": [
    "def d2b_correct(num):\n",
    "    # function to convert decimal integers to binary\n",
    "    negative = False\n",
    "    if num < 0:\n",
    "        negative = True\n",
    "    n = abs(num)\n",
    "    x = []\n",
    "    while n > 0:\n",
    "        x.append(n % 2)\n",
    "        n = math.floor(n/2)\n",
    "    result = int(''.join([str(num) for num in x[::-1]])) # convert output to binary representation \n",
    "    if negative:\n",
    "        return result*-1\n",
    "    else:\n",
    "        return result"
   ]
  },
  {
   "cell_type": "code",
   "execution_count": 12,
   "metadata": {},
   "outputs": [
    {
     "name": "stdout",
     "output_type": "stream",
     "text": [
      "decimal2binary:\t 1000\n",
      "eigenbin: \t 1000\n",
      "d2b_correct: \t 1000\n"
     ]
    }
   ],
   "source": [
    "print(\"decimal2binary:\\t\", decimal2binary(8))\n",
    "print(\"eigenbin: \\t\", eigenbin(8))\n",
    "print(\"d2b_correct: \\t\", d2b_correct(8))"
   ]
  },
  {
   "cell_type": "code",
   "execution_count": 13,
   "metadata": {},
   "outputs": [
    {
     "name": "stdout",
     "output_type": "stream",
     "text": [
      "eigenbin: \t -1000\n",
      "d2b_correct: \t -1000\n"
     ]
    }
   ],
   "source": [
    "# print(\"decimal2binary:\\t\", decimal2binary(-8)) \n",
    "print(\"eigenbin: \\t\", eigenbin(-8))\n",
    "print(\"d2b_correct: \\t\", d2b_correct(-8))"
   ]
  },
  {
   "cell_type": "markdown",
   "metadata": {
    "id": "iNLOQ5y47a-E"
   },
   "source": [
    "## Task 04 – HTTP Request\n",
    "Working with HTTP connections is essential for many data gathering tasks. The Python library *urllib* provides all functionality we need.\n",
    "Write a Python function *open_url(url)* that:\n",
    "- uses urllib to establish a HTTP connection to an arbitrary website\n",
    "- retrieves and prints the first 200 characters of the html resource, i.e. the html source code, of the chosen website\n",
    "- handles the exceptions thrown by the *urllib.request* function\n",
    "\n",
    "FYI: The basic syntax for exception handling in Python is as follows:\n",
    "```\n",
    "try:\n",
    "    ...\n",
    "    return ...\n",
    "except SomeError1 as e:\n",
    "    # error-specific exception handling\n",
    "except SomeError2 as e:\n",
    "    # error-specific exception handling\n",
    "except\n",
    "    # general exception handling\n",
    "```"
   ]
  },
  {
   "cell_type": "code",
   "execution_count": 14,
   "metadata": {
    "id": "NaCXxVlB7a-E"
   },
   "outputs": [],
   "source": [
    "def open_url(url):\n",
    "    while True:\n",
    "        try:\n",
    "            # http connection with request.urlopen()\n",
    "            with request.urlopen(url) as response:\n",
    "                # retrieve html\n",
    "                htmlsource = response.read()\n",
    "                # output first 200 chars\n",
    "                text = htmlsource.decode('utf-8')\n",
    "                return text[:200]\n",
    "\n",
    "        except ValueError:\n",
    "            print(\"\"\"\n",
    "            Value error: Please provide a valid url in the format \n",
    "            \"http://your_url\" or \"https://your_url\"\n",
    "            \"\"\")\n",
    "            url = input()\n",
    "            continue\n",
    "        except (NameError, URLError, HTTPError) as err:\n",
    "            print(\"An error occured: \", err)\n",
    "    "
   ]
  },
  {
   "cell_type": "code",
   "execution_count": 15,
   "metadata": {},
   "outputs": [
    {
     "name": "stdout",
     "output_type": "stream",
     "text": [
      "\n",
      "            Value error: Please provide a valid url in the format \n",
      "            \"http://your_url\" or \"https://your_url\"\n",
      "            \n",
      "http://fast.com/\n"
     ]
    },
    {
     "data": {
      "text/plain": [
       "'<!DOCTYPE html PUBLIC \"-//W3C//DTD HTML 4.01//EN\" \"http://www.w3.org/TR/html4/strict.dtd\">\\n<!-- htmllint id-class-style=\"dash\" -->\\n<!-- htmllint attr-name-style=\"dash\" -->\\n<html>\\n    <head profile=\"ht'"
      ]
     },
     "execution_count": 15,
     "metadata": {},
     "output_type": "execute_result"
    }
   ],
   "source": [
    "open_url(\"www.fast.com\")"
   ]
  },
  {
   "cell_type": "code",
   "execution_count": 16,
   "metadata": {
    "scrolled": true
   },
   "outputs": [
    {
     "name": "stdout",
     "output_type": "stream",
     "text": [
      "<!doctype html>\n",
      "<html>\n",
      "<head>\n",
      "    <title>Example Domain</title>\n",
      "\n",
      "    <meta charset=\"utf-8\" />\n",
      "    <meta http-equiv=\"Content-type\" content=\"text/html; charset=utf-8\" />\n",
      "    <meta name=\"viewport\" conten\n",
      "\n",
      "<!doctype html>\n",
      "<!--[if lt IE 7]>   <html class=\"no-js ie6 lt-ie7 lt-ie8 lt-ie9\">   <![endif]-->\n",
      "<!--[if IE 7]>      <html class=\"no-js ie7 lt-ie8 lt-ie9\">          <![endif]-->\n",
      "<!--[if IE 8]>      <h\n"
     ]
    }
   ],
   "source": [
    "print(open_url(\"http://example.com/\"))\n",
    "\n",
    "print()\n",
    "# works with https\n",
    "print(open_url(\"https://python.org/\"))"
   ]
  },
  {
   "cell_type": "markdown",
   "metadata": {
    "id": "ogac-RcI7a-F"
   },
   "source": [
    "## Task 05 – Logging\n",
    "The logging module in Python provides functionality for logging and debugging purposes. Use the logging module to extend the error handling for the function that you implemented to establish a HTTP connection (Task 4). All exceptions thrown by your function shall be logged as errors.\n",
    "\n",
    "To accomplish the task:\n",
    "- write a Python function *init_log(file_name, file_mode, level, format, date_format)* that initializes a custom log file to which all debugging information and errors are appended using a format that includes the date, time, level and the message of the logging event\n",
    "- log occurring errors by calling *logging.error(...)*\n",
    "- close the log after completing your task by calling *logging.shutdown()*\n",
    "\n",
    "If you choose not to complete Tasks 4, test the logging functionality with a few examples of your own."
   ]
  },
  {
   "cell_type": "code",
   "execution_count": 17,
   "metadata": {
    "id": "hT8RvjYU7a-F"
   },
   "outputs": [],
   "source": [
    "# filemode = 'a' is append; 'w' would be write (e.g. overwrite old log if it exists)\n",
    "\n",
    "def init_log(file_name, file_mode='a', level=logging.DEBUG, logformat='%(asctime)s - %(levelname)s - %(message)s', date_format='%Y-%m-%d %H:%M:%S'):\n",
    "    # Set up basic configuration using logging.basicConfig\n",
    "    logging.basicConfig(filename=file_name, filemode=file_mode, level=level, format=logformat, datefmt=date_format)\n",
    "    "
   ]
  },
  {
   "cell_type": "code",
   "execution_count": 18,
   "metadata": {},
   "outputs": [],
   "source": [
    "def open_url(url):\n",
    "    init_log(\"open_url.log\")\n",
    "    while True:\n",
    "        try:\n",
    "            # http connection with request.urlopen()\n",
    "            with request.urlopen(url) as response:\n",
    "                logging.info(f\"opened url {url} as HTTPResponse object\")\n",
    "                # retrieve html\n",
    "                htmlsource = response.read()\n",
    "                logging.info(f\"read in html from {url}\")\n",
    "                # output first 200 chars\n",
    "                text = htmlsource.decode('utf-8')\n",
    "                logging.info(\"decoded html\")\n",
    "                return text[:200]\n",
    "\n",
    "        except ValueError:\n",
    "            logging.warning(f\"VALUE ERROR for {url}\")\n",
    "            print(\"\"\"\n",
    "            Value error: Please provide a valid url in the format \n",
    "            \"http://your_url\" or \"https://your_url\"\n",
    "            \"\"\")\n",
    "            url = input()\n",
    "            continue\n",
    "        except (NameError, URLError, HTTPError) as err:\n",
    "            logging.error(\"%s\", err)\n",
    "            print(\"An error occured: \", err)\n",
    "    logging.shutdown()\n",
    "    "
   ]
  },
  {
   "cell_type": "markdown",
   "metadata": {
    "id": "FFvlZPUc7a-G"
   },
   "source": [
    "## Task 06 – Download File\n",
    "In Task 4, you used the *urllib* library to establish a http connection. You can also use the *urllib* library to perform simple file downloads.\n",
    "\n",
    "Write a Python function *download_file(url, path)* that:\n",
    "- checks whether the input URL points to a .txt file\n",
    "- if the input URL points to a .txt file, uses the *urllib* library to download and write the text file to the given path on your machine\n",
    "- logs an error “No text file found at given URL, download aborted!” to the log file created in Task 5 if the input URL does not point to a .txt file.\n",
    "- properly handles exceptions\n",
    "\n",
    "Use the *download_file()* function to download William Shakespeare’s drama Macbeth as a plain\n",
    "text file from: [Macbeth](https://ia802707.us.archive.org/1/items/macbeth02264gut/0ws3410.txt)"
   ]
  },
  {
   "cell_type": "code",
   "execution_count": 19,
   "metadata": {},
   "outputs": [
    {
     "name": "stdout",
     "output_type": "stream",
     "text": [
      "txt\n"
     ]
    }
   ],
   "source": [
    "testurl = \"https://ia802707.us.archive.org/1/items/macbeth02264gut/0ws3410.txt\"\n",
    "print(testurl.rsplit(\".\", 1)[-1])"
   ]
  },
  {
   "cell_type": "code",
   "execution_count": 20,
   "metadata": {
    "id": "3L-DwhcZ7a-G"
   },
   "outputs": [],
   "source": [
    "def download_file(url, path):\n",
    "    init_log(\"download_file.log\")\n",
    "    try:\n",
    "        if url.rsplit('.')[-1] == \"txt\":\n",
    "            with request.urlopen(url) as file:\n",
    "                content = file.read().decode()\n",
    "\n",
    "            # Save to file\n",
    "            with open(path, 'a') as download:\n",
    "                download.write(content)\n",
    "                logging.info(\"successfully retrieved txt file\")\n",
    "        \n",
    "        else:\n",
    "            raise URLError\n",
    "    except URLError:\n",
    "        logging.error(\"No text file found at given URL, download aborted!\")\n",
    "    except:\n",
    "        print(\"Please provide a valid URL\")\n",
    "    logging.shutdown()       "
   ]
  },
  {
   "cell_type": "code",
   "execution_count": 21,
   "metadata": {},
   "outputs": [],
   "source": [
    "\n",
    "download_file(testurl, \"./macbeth.txt\")"
   ]
  }
 ],
 "metadata": {
  "colab": {
   "provenance": []
  },
  "kernelspec": {
   "display_name": "Python 3 (ipykernel)",
   "language": "python",
   "name": "python3"
  },
  "language_info": {
   "codemirror_mode": {
    "name": "ipython",
    "version": 3
   },
   "file_extension": ".py",
   "mimetype": "text/x-python",
   "name": "python",
   "nbconvert_exporter": "python",
   "pygments_lexer": "ipython3",
   "version": "3.10.9"
  }
 },
 "nbformat": 4,
 "nbformat_minor": 1
}
