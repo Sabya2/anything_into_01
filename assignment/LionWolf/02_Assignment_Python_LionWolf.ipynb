{
 "cells": [
  {
   "cell_type": "markdown",
   "metadata": {
    "id": "LZgQdr4W6iKz"
   },
   "source": [
    "# Assignment 02\n",
    "##### Python Basics II\n",
    "\n",
    "This tutorial was written by Terry Ruas (University of Göttingen); The references for external contributors for which this material was anyhow adapted/inspired are in the Acknowledgments section (end of the document).\n"
   ]
  },
  {
   "cell_type": "markdown",
   "metadata": {
    "id": "Yvektzz_6iK1"
   },
   "source": [
    "This notebook will cover the following tasks:\n",
    "\n",
    "1. String Length\n",
    "2. Largest List Element\n",
    "3. Character Frequency\n",
    "4. Sorted List of Tuples\n",
    "5. Check Brackets\n",
    "6. Check Brackets II\n",
    "7. Queue\n",
    "8. Unlimited Power\n",
    "9. Unlimited Power II"
   ]
  },
  {
   "cell_type": "markdown",
   "metadata": {
    "id": "4GPUv_8U6iK1"
   },
   "source": [
    "## Task 01 – String Length\n",
    "Write a program that reads in a string and prints the length of the input string. Do not use any built-in functions of Python, such as len().\n",
    "For example, if the input is “Computer Science”, the output should be length: 16."
   ]
  },
  {
   "cell_type": "code",
   "execution_count": 19,
   "metadata": {
    "id": "xt3XV0YD6iK2"
   },
   "outputs": [],
   "source": [
    "def lengthcheck(string):\n",
    "    count = 0\n",
    "    for element in string:\n",
    "        count += 1\n",
    "    return count"
   ]
  },
  {
   "cell_type": "code",
   "execution_count": 20,
   "metadata": {},
   "outputs": [
    {
     "data": {
      "text/plain": [
       "16"
      ]
     },
     "execution_count": 20,
     "metadata": {},
     "output_type": "execute_result"
    }
   ],
   "source": [
    "lengthcheck(\"Computer Science\")"
   ]
  },
  {
   "cell_type": "markdown",
   "metadata": {
    "id": "_Jz4T4AQ6iK3"
   },
   "source": [
    "## Task 02 – Largest List Element\n",
    "Write a program that generates a list of 10 random integers between 1 and 100 and then finds and prints the largest element in the list. Do not use the built-in function max().\n",
    "For example, if the input is [23,3,42,29,12,15,8,4,37,34], the output should be the largest element: 42.\n",
    "\n",
    "Hint: Check out the module [random](https://docs.python.org/3.7/library/random.html)."
   ]
  },
  {
   "cell_type": "code",
   "execution_count": 21,
   "metadata": {
    "id": "aKLGcZ0_6iK3"
   },
   "outputs": [],
   "source": [
    "from random import randint\n",
    "def lle():\n",
    "    liste=[]\n",
    "    for i in range(10):\n",
    "        liste.append(randint(1,101))\n",
    "    \n",
    "    largest = liste[0]\n",
    "    for e in liste:\n",
    "        if e > largest:\n",
    "            largest = e\n",
    "        else:\n",
    "            continue\n",
    "    print(f'The largest element is {largest}.')"
   ]
  },
  {
   "cell_type": "code",
   "execution_count": 22,
   "metadata": {},
   "outputs": [
    {
     "name": "stdout",
     "output_type": "stream",
     "text": [
      "The largest element is 100.\n"
     ]
    }
   ],
   "source": [
    "lle()"
   ]
  },
  {
   "cell_type": "markdown",
   "metadata": {
    "id": "PalhJ9x36iK4"
   },
   "source": [
    "## Task 03 – Character Frequency\n",
    "Write a program that:\n",
    "* Reads in a string and removes any spaces from the string\n",
    "* Counts how often individual characters occur in the string\n",
    "* Stores the information on character occurrence frequency in a dictionary\n",
    "* Prints the dictionary.\n",
    "\n",
    "For example, if the input is “santa claus”, the output should be:\n",
    "{'s': 2, 'a': 3, 'n': 1, 't': 1, 'c': 1, 'l': 1, 'u': 1}."
   ]
  },
  {
   "cell_type": "code",
   "execution_count": 23,
   "metadata": {
    "id": "vm5UlcKB6iK4"
   },
   "outputs": [],
   "source": [
    "def charfreq():\n",
    "    string = input(\"Please input a string: \")\n",
    "    string = ''.join(string.split())\n",
    "    chardict = {i: string.count(i) for i in string}\n",
    "    for key, value in chardict.items():\n",
    "        print(key, ':', value)"
   ]
  },
  {
   "cell_type": "code",
   "execution_count": 24,
   "metadata": {},
   "outputs": [
    {
     "name": "stdout",
     "output_type": "stream",
     "text": [
      "Please input a string: Santa Claus\n",
      "S : 1\n",
      "a : 3\n",
      "n : 1\n",
      "t : 1\n",
      "C : 1\n",
      "l : 1\n",
      "u : 1\n",
      "s : 1\n"
     ]
    }
   ],
   "source": [
    "charfreq()"
   ]
  },
  {
   "cell_type": "markdown",
   "metadata": {
    "id": "JV1Mm9qA6iK5"
   },
   "source": [
    "## Task 04 – Sorted List of Tuples\n",
    "Write a program that:\n",
    "* Generates a list of 10 tuples, each tuple consisting of 3 random integers between 1 and 100\n",
    "* Sorts the list of tuples in increasing order of the third element in each tuple\n",
    "* Prints the sorted list of tuples\n",
    "\n",
    "For example, if the generated input list is: [(56, 77, 69), (43, 30, 38), (2, 77, 101), (93, 57, 4), (74, 21, 77), (39, 68, 68), (65, 53, 96), (16, 29, 88), (88, 70, 38)]\n",
    "The output should be: [(93, 57, 4), (43, 30, 38), (88, 70, 38), (39, 68, 68), (56, 77, 69), (74, 21, 77), (16, 29, 88), (65, 53, 96), (2, 77, 101)]\n",
    "\n",
    "Hint: You are allowed and encouraged to use built-in functions, such as [sorted()](https://docs.python.org/3.7/library/functions.html?highlight=sorted#sorted), for this task."
   ]
  },
  {
   "cell_type": "code",
   "execution_count": 25,
   "metadata": {
    "id": "C3i7ctus6iK6"
   },
   "outputs": [
    {
     "name": "stdout",
     "output_type": "stream",
     "text": [
      "[(18, 39, 13), (46, 61, 21), (31, 73, 27), (11, 56, 35), (40, 62, 45), (81, 5, 49), (57, 25, 66), (55, 1, 72), (73, 61, 72), (99, 56, 99)]\n"
     ]
    }
   ],
   "source": [
    "from random import randint\n",
    "from operator import itemgetter\n",
    "\n",
    "def sortedtuples():\n",
    "    # tuple with three elements from 1 to 100 and do it 10 times, store it in a list\n",
    "    tuplelist = [tuple(randint(1, 101) for i in range(3)) for j in range(10)]\n",
    "    \n",
    "     # lambda function to set key for sorting as tuple item with index 2 (third item)\n",
    "    sortedlist = sorted(tuplelist, key=lambda tup: tup[2]) \n",
    "    print(sortedlist)\n",
    "    \n",
    "sortedtuples()"
   ]
  },
  {
   "cell_type": "markdown",
   "metadata": {
    "id": "qz4P36Lz6iK6"
   },
   "source": [
    "## Task 05 – Check Brackets\n",
    "Write a program that reads in a string, which is supposed to be a mathematical expression. Focus on brackets only and check whether left and right brackets are composed correctly. Ignore all other characters (i.e. you don’t have to check correctness of operators and operands).\n",
    "Examples of correct input:\n",
    "* 3*(2+5)\n",
    "* ((()())())\n",
    "* (3+)(((4)))\n",
    "* Empty string\n",
    "\n",
    "Examples of incorrect input:\n",
    "* (3*(2+5)\n",
    "* ((()())(())\n",
    "* (3+)((4)))\n",
    "* ())(()\n"
   ]
  },
  {
   "cell_type": "code",
   "execution_count": 26,
   "metadata": {
    "id": "2c67p_Zc6iK7"
   },
   "outputs": [],
   "source": [
    "def bracketcheck(string):\n",
    "    stack = []\n",
    "    for char in string:\n",
    "        if char == '(' or char == '{' or char == '[':\n",
    "            stack.append(char)\n",
    "        elif char == ')':\n",
    "            if len(stack) > 0 and stack[-1] == '(':\n",
    "                stack.pop()\n",
    "            else:\n",
    "                return False\n",
    "        \n",
    "    if len(stack) == 0:\n",
    "        return True\n",
    "    else:\n",
    "        return False"
   ]
  },
  {
   "cell_type": "code",
   "execution_count": 27,
   "metadata": {},
   "outputs": [
    {
     "name": "stdout",
     "output_type": "stream",
     "text": [
      "True\n",
      "True\n",
      "True\n",
      "True\n"
     ]
    }
   ],
   "source": [
    "print(bracketcheck('3*(2+5)'))\n",
    "print(bracketcheck('((()())())'))\n",
    "print(bracketcheck('(3+)(((4)))'))\n",
    "print(bracketcheck(''))"
   ]
  },
  {
   "cell_type": "code",
   "execution_count": 28,
   "metadata": {},
   "outputs": [
    {
     "name": "stdout",
     "output_type": "stream",
     "text": [
      "False\n",
      "False\n",
      "False\n",
      "False\n"
     ]
    }
   ],
   "source": [
    "print(bracketcheck('(3*(2+5)'))\n",
    "print(bracketcheck('((()())(())'))\n",
    "print(bracketcheck('(3+)((4)))'))\n",
    "print(bracketcheck('())(()'))"
   ]
  },
  {
   "cell_type": "markdown",
   "metadata": {
    "id": "k1kh3odh6iK7"
   },
   "source": [
    "## Task 06 – Check Brackets II\n",
    "Extend previous program, so it can handle also square and curly brackets. Note that expressions in brackets cannot overlap. So, expression ```{[()()]([[]])}{}``` is correct, but expression ```([)]``` is not."
   ]
  },
  {
   "cell_type": "code",
   "execution_count": 29,
   "metadata": {
    "id": "2-UCbTRQ6iK7"
   },
   "outputs": [],
   "source": [
    "def fullbracketcheck(string):\n",
    "    stack = []\n",
    "    for char in string:\n",
    "        if char == '(' or char == '{' or char == '[':\n",
    "            stack.append(char)\n",
    "        elif char == ')':\n",
    "            if len(stack) > 0 and stack[-1] == '(':\n",
    "                stack.pop()\n",
    "            else:\n",
    "                return False\n",
    "        elif char == '}':\n",
    "            if len(stack) > 0 and stack[-1] == '{':\n",
    "                stack.pop()\n",
    "            else:\n",
    "                return False\n",
    "        elif char == ']':\n",
    "            if len(stack) > 0 and stack[-1] == '[':\n",
    "                stack.pop()\n",
    "            else:\n",
    "                return False\n",
    "\n",
    "    if len(stack) == 0:\n",
    "        return True\n",
    "    else:\n",
    "        return False"
   ]
  },
  {
   "cell_type": "code",
   "execution_count": 30,
   "metadata": {},
   "outputs": [
    {
     "name": "stdout",
     "output_type": "stream",
     "text": [
      "True\n",
      "False\n"
     ]
    }
   ],
   "source": [
    "print(fullbracketcheck('{[()()]([[]])}{}'))\n",
    "print(fullbracketcheck('([)]'))"
   ]
  },
  {
   "cell_type": "markdown",
   "metadata": {
    "id": "tc-8rPlP6iK7"
   },
   "source": [
    "## Task 07 – Queue\n",
    "Write a program that simulates a queue. It will read strings from the input. Consider these inputs as names of people coming to the end of a queue. Whenever “next” is given as input, the program will print out the name on the turn. The program finishes as soon as the queue is empty."
   ]
  },
  {
   "cell_type": "code",
   "execution_count": 31,
   "metadata": {
    "id": "X0o04N6s6iK7"
   },
   "outputs": [],
   "source": [
    "def simqueue():\n",
    "    queue = [input('')]    \n",
    "    \n",
    "    while len(queue) > 0:\n",
    "        string = input('')\n",
    "        if len(''.join(string.split())) == 0: # if input is whitespace: ignore\n",
    "            continue\n",
    "        if string.lower() == 'next':\n",
    "            if len(queue) == 1:\n",
    "                print(str(queue)[2:-2])\n",
    "                break\n",
    "            else:\n",
    "                print(queue[-1])\n",
    "                queue.pop()\n",
    "        else:\n",
    "            queue.append(string)"
   ]
  },
  {
   "cell_type": "code",
   "execution_count": 32,
   "metadata": {},
   "outputs": [
    {
     "name": "stdout",
     "output_type": "stream",
     "text": [
      "Bela Gipp\n",
      "Terry Ruas\n",
      "next\n",
      "Terry Ruas\n",
      "Norman Meuschke\n",
      "next\n",
      "Norman Meuschke\n",
      "next\n",
      "Bela Gipp\n"
     ]
    }
   ],
   "source": [
    "simqueue()"
   ]
  },
  {
   "cell_type": "markdown",
   "metadata": {
    "id": "eIhaN3g36iK8"
   },
   "source": [
    "## Task 08 – Unlimited Power\n",
    "Write a function with two arguments – $x$ and $n$. The function returns the value of $x^n$. Use [recursion](https://realpython.com/python-thinking-recursively/#recursive-data-structures-in-python)."
   ]
  },
  {
   "cell_type": "code",
   "execution_count": 33,
   "metadata": {
    "id": "KSGHEAeL6iK8"
   },
   "outputs": [],
   "source": [
    "def powers(x, n):\n",
    "    if n == 0:\n",
    "        return 1\n",
    "    else:\n",
    "        return (x * powers(x, n-1))"
   ]
  },
  {
   "cell_type": "code",
   "execution_count": 34,
   "metadata": {},
   "outputs": [
    {
     "name": "stdout",
     "output_type": "stream",
     "text": [
      "1\n",
      "123\n",
      "256\n",
      "10715086071862673209484250490600018105614048117055336074437503883703510511249361224931983788156958581275946729175531468251871452856923140435984577574698574803934567774824230985421074605062371141877954182153046474983581941267398767559165543946077062914571196477686542167660429831652624386837205668069376\n"
     ]
    }
   ],
   "source": [
    "print(powers(2, 0))\n",
    "print(powers(123, 1))\n",
    "print(powers(2, 8))\n",
    "print(powers(2, 1000))"
   ]
  },
  {
   "cell_type": "markdown",
   "metadata": {
    "id": "WBh2WBXY6iK8"
   },
   "source": [
    "## Task 09 – Unlimited Power II\n",
    "Using function for factorial and function $x^n$ from previous task, write a program that reads value of $x$ and prints approximate value of $e^x$. Use this formula (Taylor series) for calculation\n",
    "$$ e^x = 1 + x + \\frac{x^2}{2!} + \\frac{x^3}{3!} + ... + \\frac{x^n}{n!} $$\n",
    "\n",
    "To get precise value of $e^x$, the series would have to be infinite. Suppose that there is some required accuracy, so the calculation finishes as soon as the value of the next element is smaller than given threshold (e.g., 0.000001)."
   ]
  },
  {
   "cell_type": "code",
   "execution_count": 35,
   "metadata": {
    "id": "tRaZgBVX6iK9"
   },
   "outputs": [],
   "source": [
    "from math import factorial\n",
    "\n",
    "def powers_of_e(x):\n",
    "    result = 1 + x\n",
    "    iterable = 1\n",
    "    next_value = (powers(x, iterable+1) / (factorial(iterable+1)))\n",
    "    while next_value > 1e-20:\n",
    "        result += next_value\n",
    "        iterable += 1\n",
    "        next_value = (powers(x, iterable+1) / (factorial(iterable+1)))\n",
    "    return result"
   ]
  },
  {
   "cell_type": "code",
   "execution_count": 36,
   "metadata": {},
   "outputs": [
    {
     "data": {
      "text/plain": [
       "7.389056098930649"
      ]
     },
     "execution_count": 36,
     "metadata": {},
     "output_type": "execute_result"
    }
   ],
   "source": [
    "powers_of_e(2) # 7.38905609893 "
   ]
  },
  {
   "cell_type": "markdown",
   "metadata": {
    "id": "Wl9JCEYM6iK-"
   },
   "source": [
    "## Acknowledgements\n",
    "\n",
    "Redmond, Hsu, Saini, Gupta, Ramsey, Kondrich, Capoor, Cohen, Borus, Kincaid, Malik, and many others. - Stanford CS41"
   ]
  }
 ],
 "metadata": {
  "colab": {
   "provenance": []
  },
  "kernelspec": {
   "display_name": "Python 3 (ipykernel)",
   "language": "python",
   "name": "python3"
  },
  "language_info": {
   "codemirror_mode": {
    "name": "ipython",
    "version": 3
   },
   "file_extension": ".py",
   "mimetype": "text/x-python",
   "name": "python",
   "nbconvert_exporter": "python",
   "pygments_lexer": "ipython3",
   "version": "3.10.8"
  }
 },
 "nbformat": 4,
 "nbformat_minor": 1
}
