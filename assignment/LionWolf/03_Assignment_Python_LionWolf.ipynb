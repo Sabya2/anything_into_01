{
 "cells": [
  {
   "cell_type": "markdown",
   "metadata": {
    "id": "3i7Q6MM_7a82"
   },
   "source": [
    "# Assignment 03\n",
    "#### Python Basics III - Functions and Classes\n",
    "\n",
    "This tutorial was written by Terry L. Ruas (University of Göttingen). The references for external contributors for which this material was anyhow adapted/inspired are in the Acknowledgments section (end of the document)."
   ]
  },
  {
   "cell_type": "markdown",
   "metadata": {
    "id": "eKtTDCOS7a83"
   },
   "source": [
    "This notebook will cover the following tasks:\n",
    "\n",
    "1. Dictionary\n",
    "2. Classes"
   ]
  },
  {
   "cell_type": "markdown",
   "metadata": {
    "id": "XumFInmh7a85"
   },
   "source": [
    "## Task 01 – Dictionary\n",
    "Imagine you have to write a (very simple) bookkeepingsystem for a bank that keeps track of the account balances of each of its customers.\n",
    "1. Write a function that spans a dictionary holding a default balance of 0 for an initial list of customers. For simplicity, assume customer names are unique identifier.  (optional) Can you express that same functionality using a lambda function?\n",
    "2. What are elegant ways to add or remove single and multiple customers using the functionality of dict?\n",
    "3. Now write two simple functions that allow you to deposit and withdraw money for a given bank customer.\n",
    "4. Include error messages for inputs that are not permissible, e.g., withdrawing negative amounts or overdrawing the account, etc."
   ]
  },
  {
   "cell_type": "code",
   "execution_count": 1,
   "metadata": {
    "id": "aEr0j2IX7a85"
   },
   "outputs": [
    {
     "data": {
      "text/plain": [
       "{'Terry': 0,\n",
       " 'Norman': 0,\n",
       " 'Bela': 0,\n",
       " 'testuser1': 0,\n",
       " 'testuser2': 0,\n",
       " 'testuser3': 0,\n",
       " 'testuser4': 0}"
      ]
     },
     "execution_count": 1,
     "metadata": {},
     "output_type": "execute_result"
    }
   ],
   "source": [
    "# create customer dict by hand\n",
    "customers = {\n",
    "    'Terry':0,\n",
    "    'Norman':0,\n",
    "    'Bela':0,\n",
    "    'testuser1': 0,\n",
    "    'testuser2': 0,\n",
    "    'testuser3': 0,\n",
    "    'testuser4': 0\n",
    "}\n",
    "customers"
   ]
  },
  {
   "cell_type": "code",
   "execution_count": 2,
   "metadata": {},
   "outputs": [
    {
     "data": {
      "text/plain": [
       "{'Bela': 0,\n",
       " 'Norman': 0,\n",
       " 'Terry': 0,\n",
       " 'testuser1': 0,\n",
       " 'testuser2': 0,\n",
       " 'testuser3': 0,\n",
       " 'testuser4': 0}"
      ]
     },
     "execution_count": 2,
     "metadata": {},
     "output_type": "execute_result"
    }
   ],
   "source": [
    "# create dict with dict comprehension\n",
    "defaultbalance = 0\n",
    "users = ['Bela', 'Norman', 'Terry', 'testuser1', 'testuser2', 'testuser3', 'testuser4']\n",
    "customers = {key:defaultbalance for key in users}\n",
    "\n",
    "customers\n"
   ]
  },
  {
   "cell_type": "code",
   "execution_count": 3,
   "metadata": {},
   "outputs": [
    {
     "data": {
      "text/plain": [
       "{'Bela': 0,\n",
       " 'Norman': 0,\n",
       " 'Terry': 0,\n",
       " 'testuser1': 0,\n",
       " 'testuser2': 0,\n",
       " 'testuser3': 0,\n",
       " 'testuser4': 0}"
      ]
     },
     "execution_count": 3,
     "metadata": {},
     "output_type": "execute_result"
    }
   ],
   "source": [
    "# create dict with dict.fromkeys function\n",
    "customers = dict.fromkeys(users, 0)\n",
    "\n",
    "customers\n"
   ]
  },
  {
   "cell_type": "code",
   "execution_count": 4,
   "metadata": {},
   "outputs": [
    {
     "data": {
      "text/plain": [
       "{'Bela': 0,\n",
       " 'Norman': 0,\n",
       " 'Terry': 0,\n",
       " 'testuser1': 0,\n",
       " 'testuser2': 0,\n",
       " 'testuser3': 0,\n",
       " 'testuser4': 0}"
      ]
     },
     "execution_count": 4,
     "metadata": {},
     "output_type": "execute_result"
    }
   ],
   "source": [
    "# create dict with lambda function\n",
    "customers = dict(zip(users, map(lambda value: 0, users))) # why\n",
    "\n",
    "customers\n"
   ]
  },
  {
   "cell_type": "code",
   "execution_count": 5,
   "metadata": {},
   "outputs": [
    {
     "name": "stdout",
     "output_type": "stream",
     "text": [
      "{'Bela': 0, 'Norman': 0, 'Terry': 0, 'testuser1': 0, 'testuser2': 0, 'testuser3': 0, 'testuser4': 0}\n",
      "{'Bela': 0, 'Norman': 0, 'Terry': 0, 'testuser2': 0, 'testuser3': 0, 'testuser4': 0}\n",
      "{'Bela': 0, 'Norman': 0, 'Terry': 0, 'testuser3': 0, 'testuser4': 0}\n",
      "{'Bela': 0, 'Norman': 0, 'Terry': 0, 'testuser3': 0}\n"
     ]
    }
   ],
   "source": [
    "# delete one and multiple users\n",
    "print(customers)\n",
    "\n",
    "# with del\n",
    "del customers['testuser1']\n",
    "print(customers)\n",
    "\n",
    "# with pop\n",
    "customers.pop('testuser2', 'testuser3')\n",
    "print(customers)\n",
    "\n",
    "# last element\n",
    "customers.popitem()\n",
    "print(customers)\n"
   ]
  },
  {
   "cell_type": "code",
   "execution_count": 6,
   "metadata": {},
   "outputs": [],
   "source": [
    "# functionality\n",
    "def deposit(name, amount):\n",
    "    while True:\n",
    "        try:\n",
    "            if isinstance(amount, int):\n",
    "                customers[name] += amount\n",
    "                print(f\"{name} deposited ${amount}, the new balance is ${customers[name]}.\")\n",
    "                break\n",
    "            else:\n",
    "                raise ValueError\n",
    "        except ValueError:\n",
    "            try:\n",
    "                amount = int(input(\"Please input a valid amount of money to deposit: \"))\n",
    "            except:\n",
    "                continue"
   ]
  },
  {
   "cell_type": "code",
   "execution_count": 7,
   "metadata": {},
   "outputs": [],
   "source": [
    "def withdraw(name, amount):\n",
    "    while True:\n",
    "        try:\n",
    "            if isinstance(amount, int):\n",
    "                if customers[name] - amount >= 0:\n",
    "                    customers[name] -= amount\n",
    "                    print(f\"{name} withdrew {amount}, the new balance is ${customers[name]}.\")\n",
    "                    break\n",
    "                else:\n",
    "                    print(f\"{name}, you may not withdraw amounts higher than your balance (${customers[name]}).\")\n",
    "                    raise ValueError\n",
    "            else:\n",
    "                raise ValueError\n",
    "        except ValueError:\n",
    "            try:\n",
    "                amount = int(input(\"Please input a valid amount of money to withdraw: \"))\n",
    "            except:\n",
    "                continue"
   ]
  },
  {
   "cell_type": "code",
   "execution_count": 8,
   "metadata": {},
   "outputs": [
    {
     "name": "stdout",
     "output_type": "stream",
     "text": [
      "Terry deposited $1000, the new balance is $1000.\n",
      "Norman deposited $1000, the new balance is $1000.\n",
      "Please input a valid amount of money to deposit: abc\n",
      "Please input a valid amount of money to deposit: 1234\n",
      "Bela deposited $1234, the new balance is $1234.\n"
     ]
    }
   ],
   "source": [
    "# testing\n",
    "\n",
    "deposit('Terry', 1000) # deposit $1000\n",
    "deposit('Norman', 1000) # deposit $1000\n",
    "deposit('Bela', 18.8) # not int: printing error msg until valid input"
   ]
  },
  {
   "cell_type": "code",
   "execution_count": 9,
   "metadata": {},
   "outputs": [
    {
     "name": "stdout",
     "output_type": "stream",
     "text": [
      "Terry withdrew 800, the new balance is $200.\n",
      "Norman withdrew 200, the new balance is $800.\n",
      "Please input a valid amount of money to withdraw: abc\n",
      "Please input a valid amount of money to withdraw: 1234\n",
      "Bela withdrew 1234, the new balance is $0.\n"
     ]
    }
   ],
   "source": [
    "\n",
    "withdraw('Terry', 800) # withdraw $800\n",
    "withdraw('Norman', 200) # withdraw $200\n",
    "withdraw('Bela', 12.3) # not int: printing error msg until valid input"
   ]
  },
  {
   "cell_type": "markdown",
   "metadata": {
    "id": "9tMOI3tn7a86"
   },
   "source": [
    "## Task 02 – Classes\n",
    "The manager thinks that the simple bookkeeping system you have built is not powerful enough. She requests that you start from scratch and use classes instead.\n",
    "1. Write a simple class with appropriate constructor *\\_\\_init\\_\\_* that initializes an object of class *Customer* tracking the same information as in Task 01.\n",
    "2. Now write two simple methods for class *Customer* that allow you to deposit and withdraw money for a given customer object.\n",
    "3. Include error messages for inputs that are not permissible, e.g., withdrawing negative amounts or overdrawing the account.\n",
    "4. (Inheritance) Write a child class *SavingsCustomer* that inherits its features from the parent class *Customer*. A savings customer has an extra savings balance for receiving extra interest. The class should have a method to transfer money back and forth between the accounts' main balance as well as the savings balance. Do not forget to add reasonable error messages."
   ]
  },
  {
   "cell_type": "code",
   "execution_count": 10,
   "metadata": {
    "id": "mcZ6wBOO7a86"
   },
   "outputs": [],
   "source": [
    "class Customer():\n",
    "    def __init__(self, name, balance=0):\n",
    "        self.name = name\n",
    "        self.balance = balance\n",
    "        \n",
    "    def __str__(self):\n",
    "        return f\"{self.name} \\thas a balance of ${self.balance}.\"\n",
    "        \n",
    "    def deposit(self, amount):\n",
    "        while True:\n",
    "            try:\n",
    "                if isinstance(amount, int):\n",
    "                    self.balance += amount\n",
    "                    print(f\"{self.name} deposited ${amount}, the new balance is ${self.balance}.\")\n",
    "                    break\n",
    "                else:\n",
    "                    raise ValueError\n",
    "            except ValueError:\n",
    "                try:\n",
    "                    amount = int(input(f\"Please input a valid amount of money to deposit: \"))\n",
    "                except:\n",
    "                    continue\n",
    "        \n",
    "    def withdraw(self, amount):\n",
    "        while True:\n",
    "            try:\n",
    "                if isinstance(amount, int):\n",
    "                    if self.balance - amount >= 0:\n",
    "                        self.balance -= amount\n",
    "                        print(f\"{self.name} withdrew ${amount}, the new balance is ${self.balance}.\")\n",
    "                        break\n",
    "                    else:\n",
    "                        raise BalanceError\n",
    "                else:\n",
    "                    raise ValueError\n",
    "            except ValueError:\n",
    "                try:\n",
    "                    amount = int(input(f\"Please input a valid amount of money to withdraw: \"))\n",
    "                except:\n",
    "                    continue\n",
    "            except BalanceError:\n",
    "                try:\n",
    "                    amount = int(input(f\"{self.name}, you may not withdraw amounts higher than your balance (${self.balance}).\\nPlease input a valid amount of money to withdraw: \"))\n",
    "                except:\n",
    "                    continue"
   ]
  },
  {
   "cell_type": "code",
   "execution_count": 11,
   "metadata": {},
   "outputs": [
    {
     "name": "stdout",
     "output_type": "stream",
     "text": [
      "Bela Gipp \thas a balance of $0.\n",
      "Terry Ruas \thas a balance of $0.\n"
     ]
    }
   ],
   "source": [
    "bela = Customer('Bela Gipp')\n",
    "terry = Customer('Terry Ruas')\n",
    "\n",
    "print(bela)\n",
    "print(terry)"
   ]
  },
  {
   "cell_type": "code",
   "execution_count": 12,
   "metadata": {},
   "outputs": [
    {
     "name": "stdout",
     "output_type": "stream",
     "text": [
      "Please input a valid amount of money to deposit: abc\n",
      "Please input a valid amount of money to deposit: 1234\n",
      "Bela Gipp deposited $1234, the new balance is $1234.\n",
      "Terry Ruas deposited $1234, the new balance is $1234.\n"
     ]
    }
   ],
   "source": [
    "bela.deposit(12.34)\n",
    "terry.deposit(1234)"
   ]
  },
  {
   "cell_type": "code",
   "execution_count": 13,
   "metadata": {},
   "outputs": [
    {
     "name": "stdout",
     "output_type": "stream",
     "text": [
      "Please input a valid amount of money to withdraw: abc\n",
      "Please input a valid amount of money to withdraw: 1234\n",
      "Bela Gipp withdrew $1234, the new balance is $0.\n",
      "Terry Ruas withdrew $234, the new balance is $1000.\n"
     ]
    }
   ],
   "source": [
    "bela.withdraw(12.34)\n",
    "terry.withdraw(234)"
   ]
  }
 ],
 "metadata": {
  "colab": {
   "provenance": []
  },
  "kernelspec": {
   "display_name": "Python 3 (ipykernel)",
   "language": "python",
   "name": "python3"
  },
  "language_info": {
   "codemirror_mode": {
    "name": "ipython",
    "version": 3
   },
   "file_extension": ".py",
   "mimetype": "text/x-python",
   "name": "python",
   "nbconvert_exporter": "python",
   "pygments_lexer": "ipython3",
   "version": "3.10.8"
  }
 },
 "nbformat": 4,
 "nbformat_minor": 1
}
