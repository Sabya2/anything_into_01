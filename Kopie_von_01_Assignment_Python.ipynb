{
  "cells": [
    {
      "cell_type": "markdown",
      "metadata": {
        "id": "view-in-github",
        "colab_type": "text"
      },
      "source": [
        "<a href=\"https://colab.research.google.com/github/Sabya2/anything_into_01/blob/main/Kopie_von_01_Assignment_Python.ipynb\" target=\"_parent\"><img src=\"https://colab.research.google.com/assets/colab-badge.svg\" alt=\"Open In Colab\"/></a>"
      ]
    },
    {
      "cell_type": "markdown",
      "source": [
        "# Assignment 01\n",
        "##### Python Basics I\n",
        "\n",
        "This tutorial was written by Terry Ruas (University of Göttingen). The references for external contributors for which this material was anyhow adapted/inspired are in the Acknowledgments section (end of the document).\n"
      ],
      "metadata": {
        "collapsed": false,
        "id": "LZgQdr4W6iKz"
      }
    },
    {
      "cell_type": "markdown",
      "source": [
        "## Task 01 – Hello World!\n",
        "Write a simple program that asks the user to input a name and outputs a simple greeting, such as ‘Hi Name! Nice to meet you!’ and in the other line, ‘Welcome to the Programing Course!’. \n",
        "\n",
        "*Hint: Check out the input () and print() function in Python.* "
      ],
      "metadata": {
        "collapsed": false,
        "id": "4GPUv_8U6iK1"
      }
    },
    {
      "cell_type": "code",
      "execution_count": null,
      "outputs": [
        {
          "output_type": "stream",
          "name": "stdout",
          "text": [
            "your Namepeter\n",
            "hipeter\n"
          ]
        }
      ],
      "source": [
        "name = input(\"your Name: \")\n",
        "print(\"hi \" + name)"
      ],
      "metadata": {
        "id": "xt3XV0YD6iK2",
        "outputId": "d2d6178d-370d-4834-e2d1-cf96e1e58c84",
        "colab": {
          "base_uri": "https://localhost:8080/"
        }
      }
    },
    {
      "cell_type": "markdown",
      "source": [
        "## Task 02 – Reversed Words\n",
        "Write a program that reads in a word provided by the user and prints the word in a reversed order. For example, if the input is hello, the output should be ‘olleh’. \n",
        "\n",
        "- Use a loop structure \n",
        "- Use just array indexes \n"
      ],
      "metadata": {
        "collapsed": false,
        "id": "_Jz4T4AQ6iK3"
      }
    },
    {
      "cell_type": "code",
      "execution_count": null,
      "outputs": [
        {
          "output_type": "stream",
          "name": "stdout",
          "text": [
            "Your word: Python\n",
            "nohtyP\n"
          ]
        }
      ],
      "source": [
        "\n",
        "Wort = input(\"Your word: \")\n",
        "a=\"\"\n",
        "for i in range(0,len(Wort)):\n",
        "  n=len(Wort)\n",
        "  index =n-i-1\n",
        "  a+= Wort [index]\n",
        "  \n",
        "print(a)\n",
        "\n",
        "\n"
      ],
      "metadata": {
        "id": "aKLGcZ0_6iK3",
        "outputId": "63b43b0e-6741-462e-c7f9-212f6a53813c",
        "colab": {
          "base_uri": "https://localhost:8080/"
        }
      }
    },
    {
      "cell_type": "markdown",
      "source": [
        "\n",
        "\n",
        "## Task 03 –  Fibonacci Numbers\n",
        "Write a program that reads in an upper bound (number) provided by the user and prints the sequence of Fibonacci numbers that are less or equal to the number given by the user. Use a while-loop for this task. \n",
        "\n",
        "The Fibonacci sequence is defined as \n",
        "$ F_{n}=F_{n−1}+F_{n−2}$. Use $F_{0}=0$ and $F_{1} = 1$ as seed values.  \n",
        "\n",
        "For example, if the user inputs 6, the output should be 0, 1, 1, 2, 3, 5. \n",
        "\n",
        "\n",
        "\n"
      ],
      "metadata": {
        "collapsed": false,
        "id": "PalhJ9x36iK4"
      }
    },
    {
      "cell_type": "code",
      "execution_count": null,
      "outputs": [
        {
          "output_type": "stream",
          "name": "stdout",
          "text": [
            "Your Number: 13\n",
            "0\n",
            "1\n",
            "1\n",
            "2\n",
            "3\n",
            "5\n",
            "8\n",
            "13\n"
          ]
        }
      ],
      "source": [
        "# Program to display the Fibonacci sequence up to n-th term\n",
        "\n",
        "number = int(input(\"Your Number: \"))\n",
        "\n",
        "# first two terms\n",
        "f1 =0\n",
        "f2 =1\n",
        "\n",
        "while f1 <= number:\n",
        "  print(f1)    #hier wird erst 0 ausgegeben \n",
        "  next = f1 + f2 #hier wird auf die 0 eine 1 addiert\n",
        "  f1 = f2        #hier entspricht dann n2 also as 0 wird 1\n",
        "  f2 = next       #hier wird die anfaengliche zahl durch n2 ersetzt. Aus 1 wird (bleibt) 1\n",
        "  "
      ],
      "metadata": {
        "id": "vm5UlcKB6iK4",
        "outputId": "4765664a-47ed-422d-e276-6e80dee83e25",
        "colab": {
          "base_uri": "https://localhost:8080/"
        }
      }
    },
    {
      "cell_type": "markdown",
      "source": [
        "## Task 04 – Selective Printing \n",
        "\n",
        "Write a program that reads in an upper bound (number) provided by the user and prints all integer numbers that are less or equal to the upper bound except the integer numbers that are divisible by 3. Use the continue statement. For example, if the user enters 6 as the upper bound, the output should be 0, 1, 2, 4, 5.  "
      ],
      "metadata": {
        "collapsed": false,
        "id": "JV1Mm9qA6iK5"
      }
    },
    {
      "cell_type": "code",
      "execution_count": null,
      "outputs": [
        {
          "output_type": "stream",
          "name": "stdout",
          "text": [
            "Your Number: 8\n",
            "0\n",
            "1\n",
            "2\n",
            "4\n",
            "5\n",
            "7\n",
            "8\n"
          ]
        }
      ],
      "source": [
        "number = int(input(\"Your Number: \"))\n",
        "\n",
        "for i in range(number+1):\n",
        "  if i == 0:\n",
        "    print(i)\n",
        "  elif i % 3 == 0:\n",
        "    continue\n",
        "  else:\n",
        "    print(i) "
      ],
      "metadata": {
        "id": "C3i7ctus6iK6",
        "outputId": "8bc16294-c678-4a5e-848e-138733764f09",
        "colab": {
          "base_uri": "https://localhost:8080/"
        }
      }
    },
    {
      "cell_type": "markdown",
      "source": [
        "## Task 05 – Triangle Checking   \n",
        "\n",
        "Write a Python program that asks the user to input the lengths of the sides in a triangle and outputs whether the triangle is equilateral, isosceles, or scalene. The program should also check for the Triangle inequality $(z < x + y)$,  and prompt the user for a valid input. \n",
        "\n",
        "- An equilateral triangle is a triangle in which all three sides are of equal length. \n",
        "- An isosceles triangle is a triangle with (at least) two sides of equal length. \n",
        "- A scalene triangle is a triangle in which all three sides have different lengths. \n",
        "\n",
        "For example, if the user inputs a=3, b=4, c=5, the triangle is scalene. \n"
      ],
      "metadata": {
        "collapsed": false,
        "id": "qz4P36Lz6iK6"
      }
    },
    {
      "cell_type": "code",
      "execution_count": null,
      "outputs": [
        {
          "output_type": "stream",
          "name": "stdout",
          "text": [
            "x: 1\n",
            "y: 2\n",
            "z: 3\n",
            "scalene triangle\n"
          ]
        }
      ],
      "source": [
        "x = float(input(\"x: \"))\n",
        "y = float(input(\"y: \"))\n",
        "z = float(input(\"z: \"))\n",
        "\n",
        "if z > x + y:\n",
        "  print(\"non valid input\")\n",
        "\n",
        "elif z == x == y:\n",
        "  print(\"equilateral triangle\")\n",
        "\n",
        "elif z == x or z == y or x == y:\n",
        "  print(\"isosceles triangle\")\n",
        "\n",
        "elif z != x != y: #else hat auch funktioniert\n",
        "  print(\"scalene triangle\")\n"
      ],
      "metadata": {
        "id": "2c67p_Zc6iK7",
        "outputId": "241313f5-f6a0-4659-b938-abc92458391b",
        "colab": {
          "base_uri": "https://localhost:8080/"
        }
      }
    },
    {
      "cell_type": "markdown",
      "source": [
        "## Task 06 – Decimal to Octal Conversion \n",
        "\n",
        "Write a program that reads a non-negative integer number in the decimal representation provided by the user and prints the octal representation of the number. For example, if the user enters 167, the output should be 247.  \n",
        "\n",
        "Write a more general program that reads in a non-negative number (potentially including decimal places) in the decimal representation provided by the user and prints the octal representation of the number. For example, if the user enters 25.11, the output should be 31.0702436560507534. "
      ],
      "metadata": {
        "collapsed": false,
        "id": "k1kh3odh6iK7"
      }
    },
    {
      "cell_type": "code",
      "execution_count": null,
      "outputs": [
        {
          "name": "stdout",
          "output_type": "stream",
          "text": [
            "Your Number: 167\n"
          ]
        },
        {
          "output_type": "execute_result",
          "data": {
            "text/plain": [
              "'247'"
            ],
            "application/vnd.google.colaboratory.intrinsic+json": {
              "type": "string"
            }
          },
          "metadata": {},
          "execution_count": 32
        }
      ],
      "source": [
        "#A\n",
        "Number = int(input(\"Your Number: \"))\n",
        "\n",
        "oct(Number)[2:]\n",
        "\n",
        "#B\n",
        "\n"
      ],
      "metadata": {
        "id": "2-UCbTRQ6iK7",
        "outputId": "331352ef-79c0-4d2d-9c0f-0e7bf8cd2102",
        "colab": {
          "base_uri": "https://localhost:8080/",
          "height": 54
        }
      }
    },
    {
      "cell_type": "markdown",
      "source": [
        "## Acknowledgements\n",
        "\n",
        "Redmond, Hsu, Saini, Gupta, Ramsey, Kondrich, Capoor, Cohen, Borus, Kincaid, Malik, and many others. - Stanford CS41"
      ],
      "metadata": {
        "collapsed": false,
        "id": "Wl9JCEYM6iK-"
      }
    },
    {
      "cell_type": "code",
      "execution_count": null,
      "outputs": [],
      "source": [],
      "metadata": {
        "id": "Bx-WQj4v6iK-"
      }
    }
  ],
  "metadata": {
    "kernelspec": {
      "display_name": "Python 3",
      "language": "python",
      "name": "python3"
    },
    "language_info": {
      "codemirror_mode": {
        "name": "ipython",
        "version": 2
      },
      "file_extension": ".py",
      "mimetype": "text/x-python",
      "name": "python",
      "nbconvert_exporter": "python",
      "pygments_lexer": "ipython2",
      "version": "2.7.6"
    },
    "colab": {
      "provenance": [],
      "include_colab_link": true
    }
  },
  "nbformat": 4,
  "nbformat_minor": 0
}